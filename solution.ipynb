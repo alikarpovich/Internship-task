{
 "cells": [
  {
   "cell_type": "markdown",
   "metadata": {},
   "source": [
    "Health Insurance Dataset\n",
    "\n",
    "Task:\n",
    "- Build a model that predicts \"charges\" for a given person based on their features.\n",
    "- Evaluate the quality of your model.\n",
    "- Identify the factors with the highest impact.\n",
    "\n",
    "Expected result - link to a GitHub repo with:\n",
    "- Code for the solution (any programming language, Python or R preferred).\n",
    "- Brief summary of the solution*: what did you do, which steps did you make, how to interpret the results.\n",
    "\n",
    "* Both code and solution can be a single report file, e.g. .ipynb or .rmd"
   ]
  },
  {
   "cell_type": "code",
   "execution_count": 1,
   "metadata": {},
   "outputs": [],
   "source": [
    "%matplotlib inline\n",
    "import matplotlib.pyplot as plt\n",
    "import numpy as np, pandas as pd"
   ]
  },
  {
   "cell_type": "code",
   "execution_count": 2,
   "metadata": {},
   "outputs": [
    {
     "data": {
      "text/html": [
       "<div>\n",
       "<style scoped>\n",
       "    .dataframe tbody tr th:only-of-type {\n",
       "        vertical-align: middle;\n",
       "    }\n",
       "\n",
       "    .dataframe tbody tr th {\n",
       "        vertical-align: top;\n",
       "    }\n",
       "\n",
       "    .dataframe thead th {\n",
       "        text-align: right;\n",
       "    }\n",
       "</style>\n",
       "<table border=\"1\" class=\"dataframe\">\n",
       "  <thead>\n",
       "    <tr style=\"text-align: right;\">\n",
       "      <th></th>\n",
       "      <th>age</th>\n",
       "      <th>sex</th>\n",
       "      <th>bmi</th>\n",
       "      <th>children</th>\n",
       "      <th>smoker</th>\n",
       "      <th>region</th>\n",
       "      <th>charges</th>\n",
       "    </tr>\n",
       "  </thead>\n",
       "  <tbody>\n",
       "    <tr>\n",
       "      <th>0</th>\n",
       "      <td>19</td>\n",
       "      <td>female</td>\n",
       "      <td>27.900</td>\n",
       "      <td>0</td>\n",
       "      <td>yes</td>\n",
       "      <td>southwest</td>\n",
       "      <td>16884.92400</td>\n",
       "    </tr>\n",
       "    <tr>\n",
       "      <th>1</th>\n",
       "      <td>18</td>\n",
       "      <td>male</td>\n",
       "      <td>33.770</td>\n",
       "      <td>1</td>\n",
       "      <td>no</td>\n",
       "      <td>southeast</td>\n",
       "      <td>1725.55230</td>\n",
       "    </tr>\n",
       "    <tr>\n",
       "      <th>2</th>\n",
       "      <td>28</td>\n",
       "      <td>male</td>\n",
       "      <td>33.000</td>\n",
       "      <td>3</td>\n",
       "      <td>no</td>\n",
       "      <td>southeast</td>\n",
       "      <td>4449.46200</td>\n",
       "    </tr>\n",
       "    <tr>\n",
       "      <th>3</th>\n",
       "      <td>33</td>\n",
       "      <td>male</td>\n",
       "      <td>22.705</td>\n",
       "      <td>0</td>\n",
       "      <td>no</td>\n",
       "      <td>northwest</td>\n",
       "      <td>21984.47061</td>\n",
       "    </tr>\n",
       "    <tr>\n",
       "      <th>4</th>\n",
       "      <td>32</td>\n",
       "      <td>male</td>\n",
       "      <td>28.880</td>\n",
       "      <td>0</td>\n",
       "      <td>no</td>\n",
       "      <td>northwest</td>\n",
       "      <td>3866.85520</td>\n",
       "    </tr>\n",
       "  </tbody>\n",
       "</table>\n",
       "</div>"
      ],
      "text/plain": [
       "   age     sex     bmi  children smoker     region      charges\n",
       "0   19  female  27.900         0    yes  southwest  16884.92400\n",
       "1   18    male  33.770         1     no  southeast   1725.55230\n",
       "2   28    male  33.000         3     no  southeast   4449.46200\n",
       "3   33    male  22.705         0     no  northwest  21984.47061\n",
       "4   32    male  28.880         0     no  northwest   3866.85520"
      ]
     },
     "execution_count": 2,
     "metadata": {},
     "output_type": "execute_result"
    }
   ],
   "source": [
    "insurance = pd.read_csv(\"insurance.csv\")\n",
    "insurance.head()"
   ]
  },
  {
   "cell_type": "code",
   "execution_count": 3,
   "metadata": {
    "scrolled": true
   },
   "outputs": [
    {
     "data": {
      "text/html": [
       "<div>\n",
       "<style scoped>\n",
       "    .dataframe tbody tr th:only-of-type {\n",
       "        vertical-align: middle;\n",
       "    }\n",
       "\n",
       "    .dataframe tbody tr th {\n",
       "        vertical-align: top;\n",
       "    }\n",
       "\n",
       "    .dataframe thead th {\n",
       "        text-align: right;\n",
       "    }\n",
       "</style>\n",
       "<table border=\"1\" class=\"dataframe\">\n",
       "  <thead>\n",
       "    <tr style=\"text-align: right;\">\n",
       "      <th></th>\n",
       "      <th>age</th>\n",
       "      <th>sex</th>\n",
       "      <th>bmi</th>\n",
       "      <th>children</th>\n",
       "      <th>smoker</th>\n",
       "      <th>region</th>\n",
       "    </tr>\n",
       "  </thead>\n",
       "  <tbody>\n",
       "    <tr>\n",
       "      <th>0</th>\n",
       "      <td>19</td>\n",
       "      <td>female</td>\n",
       "      <td>27.900</td>\n",
       "      <td>0</td>\n",
       "      <td>yes</td>\n",
       "      <td>southwest</td>\n",
       "    </tr>\n",
       "    <tr>\n",
       "      <th>1</th>\n",
       "      <td>18</td>\n",
       "      <td>male</td>\n",
       "      <td>33.770</td>\n",
       "      <td>1</td>\n",
       "      <td>no</td>\n",
       "      <td>southeast</td>\n",
       "    </tr>\n",
       "    <tr>\n",
       "      <th>2</th>\n",
       "      <td>28</td>\n",
       "      <td>male</td>\n",
       "      <td>33.000</td>\n",
       "      <td>3</td>\n",
       "      <td>no</td>\n",
       "      <td>southeast</td>\n",
       "    </tr>\n",
       "    <tr>\n",
       "      <th>3</th>\n",
       "      <td>33</td>\n",
       "      <td>male</td>\n",
       "      <td>22.705</td>\n",
       "      <td>0</td>\n",
       "      <td>no</td>\n",
       "      <td>northwest</td>\n",
       "    </tr>\n",
       "    <tr>\n",
       "      <th>4</th>\n",
       "      <td>32</td>\n",
       "      <td>male</td>\n",
       "      <td>28.880</td>\n",
       "      <td>0</td>\n",
       "      <td>no</td>\n",
       "      <td>northwest</td>\n",
       "    </tr>\n",
       "  </tbody>\n",
       "</table>\n",
       "</div>"
      ],
      "text/plain": [
       "   age     sex     bmi  children smoker     region\n",
       "0   19  female  27.900         0    yes  southwest\n",
       "1   18    male  33.770         1     no  southeast\n",
       "2   28    male  33.000         3     no  southeast\n",
       "3   33    male  22.705         0     no  northwest\n",
       "4   32    male  28.880         0     no  northwest"
      ]
     },
     "execution_count": 3,
     "metadata": {},
     "output_type": "execute_result"
    }
   ],
   "source": [
    "X = insurance.drop(columns=['charges'])\n",
    "y = insurance['charges']\n",
    "X.head()"
   ]
  },
  {
   "cell_type": "markdown",
   "metadata": {},
   "source": [
    "### Original charges "
   ]
  },
  {
   "cell_type": "code",
   "execution_count": 4,
   "metadata": {},
   "outputs": [
    {
     "data": {
      "text/plain": [
       "(array([536., 398., 129.,  86.,  35.,  59.,  57.,  32.,   2.,   4.]),\n",
       " array([ 1121.8739  ,  7386.729311, 13651.584722, 19916.440133,\n",
       "        26181.295544, 32446.150955, 38711.006366, 44975.861777,\n",
       "        51240.717188, 57505.572599, 63770.42801 ]),\n",
       " <a list of 10 Patch objects>)"
      ]
     },
     "execution_count": 4,
     "metadata": {},
     "output_type": "execute_result"
    },
    {
     "data": {
      "image/png": "[encoded data removed]",
      "text/plain": [
       "<Figure size 432x288 with 1 Axes>"
      ]
     },
     "metadata": {
      "needs_background": "light"
     },
     "output_type": "display_data"
    }
   ],
   "source": [
    "plt.hist(y)"
   ]
  },
  {
   "cell_type": "markdown",
   "metadata": {},
   "source": [
    "### Log charges"
   ]
  },
  {
   "cell_type": "code",
   "execution_count": 5,
   "metadata": {},
   "outputs": [
    {
     "data": {
      "text/plain": [
       "(array([ 46., 105., 101., 155., 198., 283., 156., 123., 115.,  56.]),\n",
       " array([ 7.02275569,  7.42678461,  7.83081352,  8.23484244,  8.63887136,\n",
       "         9.04290027,  9.44692919,  9.8509581 , 10.25498702, 10.65901594,\n",
       "        11.06304485]),\n",
       " <a list of 10 Patch objects>)"
      ]
     },
     "execution_count": 5,
     "metadata": {},
     "output_type": "execute_result"
    },
    {
     "data": {
      "image/png": "[encoded data removed]",
      "text/plain": [
       "<Figure size 432x288 with 1 Axes>"
      ]
     },
     "metadata": {
      "needs_background": "light"
     },
     "output_type": "display_data"
    }
   ],
   "source": [
    "plt.hist(np.log(y))"
   ]
  },
  {
   "cell_type": "markdown",
   "metadata": {},
   "source": [
    "We will predict log to reduce dispersion of predictions"
   ]
  },
  {
   "cell_type": "markdown",
   "metadata": {},
   "source": [
    "## Preprocess\n",
    "- one hot encoding of categorical features sex, children, smoker, region\n",
    "- making one hot encoding of categories for thresholds age\n",
    "\n",
    "Normalization of bmi we are going to do after splitting into train and test parts"
   ]
  },
  {
   "cell_type": "markdown",
   "metadata": {},
   "source": [
    "### Age"
   ]
  },
  {
   "cell_type": "code",
   "execution_count": 6,
   "metadata": {},
   "outputs": [
    {
     "data": {
      "text/plain": [
       "(array([137.,  57.,  28.,  56.,  28.,  56.,  28.,  54.,  27.,  52.,  26.,\n",
       "         50.,  25.,  50.,  27.,  54.,  54.,  29.,  58.,  29.,  57.,  29.,\n",
       "         57.,  28.,  52.,  26.,  50.,  23.,  46.,  45.]),\n",
       " array([18.        , 19.53333333, 21.06666667, 22.6       , 24.13333333,\n",
       "        25.66666667, 27.2       , 28.73333333, 30.26666667, 31.8       ,\n",
       "        33.33333333, 34.86666667, 36.4       , 37.93333333, 39.46666667,\n",
       "        41.        , 42.53333333, 44.06666667, 45.6       , 47.13333333,\n",
       "        48.66666667, 50.2       , 51.73333333, 53.26666667, 54.8       ,\n",
       "        56.33333333, 57.86666667, 59.4       , 60.93333333, 62.46666667,\n",
       "        64.        ]),\n",
       " <a list of 30 Patch objects>)"
      ]
     },
     "execution_count": 6,
     "metadata": {},
     "output_type": "execute_result"
    },
    {
     "data": {
      "image/png": "[encoded data removed]",
      "text/plain": [
       "<Figure size 432x288 with 1 Axes>"
      ]
     },
     "metadata": {
      "needs_background": "light"
     },
     "output_type": "display_data"
    }
   ],
   "source": [
    "plt.hist(X['age'], bins=30)"
   ]
  },
  {
   "cell_type": "code",
   "execution_count": 7,
   "metadata": {},
   "outputs": [
    {
     "data": {
      "text/plain": [
       "[<matplotlib.lines.Line2D at 0x1237b8150>]"
      ]
     },
     "execution_count": 7,
     "metadata": {},
     "output_type": "execute_result"
    },
    {
     "data": {
      "image/png": "[encoded data removed]",
      "text/plain": [
       "<Figure size 432x288 with 1 Axes>"
      ]
     },
     "metadata": {
      "needs_background": "light"
     },
     "output_type": "display_data"
    }
   ],
   "source": [
    "plt.plot(np.sort(X['age']), y[np.argsort(X['age'])])"
   ]
  },
  {
   "cell_type": "markdown",
   "metadata": {},
   "source": [
    "We splitted column age into 30 bins and, as we see by the distribution on a histogram, after 20 the number of elements can be grouped to have pretty much same number of elements in one group. \n",
    "As we see on a plot, that shows how the charge changes as age changes, there is no big preponderance of charge in certain age - so we actually can set thresholds and split age into several groups to build categories."
   ]
  },
  {
   "cell_type": "code",
   "execution_count": 8,
   "metadata": {},
   "outputs": [
    {
     "data": {
      "text/plain": [
       "(array([222., 140., 109., 128., 102., 137., 144., 114., 128., 114.]),\n",
       " array([18. , 22.6, 27.2, 31.8, 36.4, 41. , 45.6, 50.2, 54.8, 59.4, 64. ]),\n",
       " <a list of 10 Patch objects>)"
      ]
     },
     "execution_count": 8,
     "metadata": {},
     "output_type": "execute_result"
    },
    {
     "data": {
      "image/png": "[encoded data removed]",
      "text/plain": [
       "<Figure size 432x288 with 1 Axes>"
      ]
     },
     "metadata": {
      "needs_background": "light"
     },
     "output_type": "display_data"
    }
   ],
   "source": [
    "plt.hist(X['age'], bins=10)"
   ]
  },
  {
   "cell_type": "markdown",
   "metadata": {},
   "source": [
    "As we see how the age distributed, when we split on 10 bins, approximately we can take around 5 years in a group."
   ]
  },
  {
   "cell_type": "code",
   "execution_count": 9,
   "metadata": {},
   "outputs": [
    {
     "data": {
      "text/html": [
       "<div>\n",
       "<style scoped>\n",
       "    .dataframe tbody tr th:only-of-type {\n",
       "        vertical-align: middle;\n",
       "    }\n",
       "\n",
       "    .dataframe tbody tr th {\n",
       "        vertical-align: top;\n",
       "    }\n",
       "\n",
       "    .dataframe thead th {\n",
       "        text-align: right;\n",
       "    }\n",
       "</style>\n",
       "<table border=\"1\" class=\"dataframe\">\n",
       "  <thead>\n",
       "    <tr style=\"text-align: right;\">\n",
       "      <th></th>\n",
       "      <th>age</th>\n",
       "      <th>sex</th>\n",
       "      <th>bmi</th>\n",
       "      <th>children</th>\n",
       "      <th>smoker</th>\n",
       "      <th>region</th>\n",
       "      <th>less 20</th>\n",
       "      <th>20-25</th>\n",
       "      <th>25-30</th>\n",
       "      <th>30-35</th>\n",
       "      <th>35-40</th>\n",
       "      <th>40-45</th>\n",
       "      <th>45-50</th>\n",
       "      <th>50-55</th>\n",
       "      <th>55-60</th>\n",
       "      <th>60-65</th>\n",
       "    </tr>\n",
       "  </thead>\n",
       "  <tbody>\n",
       "    <tr>\n",
       "      <th>0</th>\n",
       "      <td>19</td>\n",
       "      <td>female</td>\n",
       "      <td>27.900</td>\n",
       "      <td>0</td>\n",
       "      <td>yes</td>\n",
       "      <td>southwest</td>\n",
       "      <td>1.0</td>\n",
       "      <td>0.0</td>\n",
       "      <td>0.0</td>\n",
       "      <td>0.0</td>\n",
       "      <td>0.0</td>\n",
       "      <td>0.0</td>\n",
       "      <td>0.0</td>\n",
       "      <td>0.0</td>\n",
       "      <td>0.0</td>\n",
       "      <td>0.0</td>\n",
       "    </tr>\n",
       "    <tr>\n",
       "      <th>1</th>\n",
       "      <td>18</td>\n",
       "      <td>male</td>\n",
       "      <td>33.770</td>\n",
       "      <td>1</td>\n",
       "      <td>no</td>\n",
       "      <td>southeast</td>\n",
       "      <td>1.0</td>\n",
       "      <td>0.0</td>\n",
       "      <td>0.0</td>\n",
       "      <td>0.0</td>\n",
       "      <td>0.0</td>\n",
       "      <td>0.0</td>\n",
       "      <td>0.0</td>\n",
       "      <td>0.0</td>\n",
       "      <td>0.0</td>\n",
       "      <td>0.0</td>\n",
       "    </tr>\n",
       "    <tr>\n",
       "      <th>2</th>\n",
       "      <td>28</td>\n",
       "      <td>male</td>\n",
       "      <td>33.000</td>\n",
       "      <td>3</td>\n",
       "      <td>no</td>\n",
       "      <td>southeast</td>\n",
       "      <td>0.0</td>\n",
       "      <td>0.0</td>\n",
       "      <td>1.0</td>\n",
       "      <td>0.0</td>\n",
       "      <td>0.0</td>\n",
       "      <td>0.0</td>\n",
       "      <td>0.0</td>\n",
       "      <td>0.0</td>\n",
       "      <td>0.0</td>\n",
       "      <td>0.0</td>\n",
       "    </tr>\n",
       "    <tr>\n",
       "      <th>3</th>\n",
       "      <td>33</td>\n",
       "      <td>male</td>\n",
       "      <td>22.705</td>\n",
       "      <td>0</td>\n",
       "      <td>no</td>\n",
       "      <td>northwest</td>\n",
       "      <td>0.0</td>\n",
       "      <td>0.0</td>\n",
       "      <td>0.0</td>\n",
       "      <td>1.0</td>\n",
       "      <td>0.0</td>\n",
       "      <td>0.0</td>\n",
       "      <td>0.0</td>\n",
       "      <td>0.0</td>\n",
       "      <td>0.0</td>\n",
       "      <td>0.0</td>\n",
       "    </tr>\n",
       "    <tr>\n",
       "      <th>4</th>\n",
       "      <td>32</td>\n",
       "      <td>male</td>\n",
       "      <td>28.880</td>\n",
       "      <td>0</td>\n",
       "      <td>no</td>\n",
       "      <td>northwest</td>\n",
       "      <td>0.0</td>\n",
       "      <td>0.0</td>\n",
       "      <td>0.0</td>\n",
       "      <td>1.0</td>\n",
       "      <td>0.0</td>\n",
       "      <td>0.0</td>\n",
       "      <td>0.0</td>\n",
       "      <td>0.0</td>\n",
       "      <td>0.0</td>\n",
       "      <td>0.0</td>\n",
       "    </tr>\n",
       "  </tbody>\n",
       "</table>\n",
       "</div>"
      ],
      "text/plain": [
       "   age     sex     bmi  children smoker     region  less 20  20-25  25-30  \\\n",
       "0   19  female  27.900         0    yes  southwest      1.0    0.0    0.0   \n",
       "1   18    male  33.770         1     no  southeast      1.0    0.0    0.0   \n",
       "2   28    male  33.000         3     no  southeast      0.0    0.0    1.0   \n",
       "3   33    male  22.705         0     no  northwest      0.0    0.0    0.0   \n",
       "4   32    male  28.880         0     no  northwest      0.0    0.0    0.0   \n",
       "\n",
       "   30-35  35-40  40-45  45-50  50-55  55-60  60-65  \n",
       "0    0.0    0.0    0.0    0.0    0.0    0.0    0.0  \n",
       "1    0.0    0.0    0.0    0.0    0.0    0.0    0.0  \n",
       "2    0.0    0.0    0.0    0.0    0.0    0.0    0.0  \n",
       "3    1.0    0.0    0.0    0.0    0.0    0.0    0.0  \n",
       "4    1.0    0.0    0.0    0.0    0.0    0.0    0.0  "
      ]
     },
     "execution_count": 9,
     "metadata": {},
     "output_type": "execute_result"
    }
   ],
   "source": [
    "X['less 20'] = np.float64(X['age'] < 20)\n",
    "for year in range(20, 61, 5):\n",
    "    X[f'{year}-{year + 5}'] = np.float64((year < X['age'].values) == (X['age'].values < year + 5))\n",
    "X.head()"
   ]
  },
  {
   "cell_type": "code",
   "execution_count": 10,
   "metadata": {},
   "outputs": [
    {
     "name": "stdout",
     "output_type": "stream",
     "text": [
      "length of age categories:\n",
      " {'less 20': 137.0, '20-25': 112.0, '25-30': 111.0, '30-35': 105.0, '35-40': 100.0, '40-45': 108.0, '45-50': 115.0, '50-55': 114.0, '55-60': 102.0, '60-65': 91.0}\n"
     ]
    }
   ],
   "source": [
    "print(\"length of age categories:\\n\", \n",
    "      {name_col : np.sum(X[name_col]) \n",
    "       for name_col in X.columns if '0' in name_col})"
   ]
  },
  {
   "cell_type": "code",
   "execution_count": 11,
   "metadata": {
    "scrolled": true
   },
   "outputs": [
    {
     "data": {
      "text/html": [
       "<div>\n",
       "<style scoped>\n",
       "    .dataframe tbody tr th:only-of-type {\n",
       "        vertical-align: middle;\n",
       "    }\n",
       "\n",
       "    .dataframe tbody tr th {\n",
       "        vertical-align: top;\n",
       "    }\n",
       "\n",
       "    .dataframe thead th {\n",
       "        text-align: right;\n",
       "    }\n",
       "</style>\n",
       "<table border=\"1\" class=\"dataframe\">\n",
       "  <thead>\n",
       "    <tr style=\"text-align: right;\">\n",
       "      <th></th>\n",
       "      <th>sex</th>\n",
       "      <th>bmi</th>\n",
       "      <th>children</th>\n",
       "      <th>smoker</th>\n",
       "      <th>region</th>\n",
       "      <th>less 20</th>\n",
       "      <th>20-25</th>\n",
       "      <th>25-30</th>\n",
       "      <th>30-35</th>\n",
       "      <th>35-40</th>\n",
       "      <th>40-45</th>\n",
       "      <th>45-50</th>\n",
       "      <th>50-55</th>\n",
       "      <th>55-60</th>\n",
       "      <th>60-65</th>\n",
       "    </tr>\n",
       "  </thead>\n",
       "  <tbody>\n",
       "    <tr>\n",
       "      <th>0</th>\n",
       "      <td>female</td>\n",
       "      <td>27.900</td>\n",
       "      <td>0</td>\n",
       "      <td>yes</td>\n",
       "      <td>southwest</td>\n",
       "      <td>1.0</td>\n",
       "      <td>0.0</td>\n",
       "      <td>0.0</td>\n",
       "      <td>0.0</td>\n",
       "      <td>0.0</td>\n",
       "      <td>0.0</td>\n",
       "      <td>0.0</td>\n",
       "      <td>0.0</td>\n",
       "      <td>0.0</td>\n",
       "      <td>0.0</td>\n",
       "    </tr>\n",
       "    <tr>\n",
       "      <th>1</th>\n",
       "      <td>male</td>\n",
       "      <td>33.770</td>\n",
       "      <td>1</td>\n",
       "      <td>no</td>\n",
       "      <td>southeast</td>\n",
       "      <td>1.0</td>\n",
       "      <td>0.0</td>\n",
       "      <td>0.0</td>\n",
       "      <td>0.0</td>\n",
       "      <td>0.0</td>\n",
       "      <td>0.0</td>\n",
       "      <td>0.0</td>\n",
       "      <td>0.0</td>\n",
       "      <td>0.0</td>\n",
       "      <td>0.0</td>\n",
       "    </tr>\n",
       "    <tr>\n",
       "      <th>2</th>\n",
       "      <td>male</td>\n",
       "      <td>33.000</td>\n",
       "      <td>3</td>\n",
       "      <td>no</td>\n",
       "      <td>southeast</td>\n",
       "      <td>0.0</td>\n",
       "      <td>0.0</td>\n",
       "      <td>1.0</td>\n",
       "      <td>0.0</td>\n",
       "      <td>0.0</td>\n",
       "      <td>0.0</td>\n",
       "      <td>0.0</td>\n",
       "      <td>0.0</td>\n",
       "      <td>0.0</td>\n",
       "      <td>0.0</td>\n",
       "    </tr>\n",
       "    <tr>\n",
       "      <th>3</th>\n",
       "      <td>male</td>\n",
       "      <td>22.705</td>\n",
       "      <td>0</td>\n",
       "      <td>no</td>\n",
       "      <td>northwest</td>\n",
       "      <td>0.0</td>\n",
       "      <td>0.0</td>\n",
       "      <td>0.0</td>\n",
       "      <td>1.0</td>\n",
       "      <td>0.0</td>\n",
       "      <td>0.0</td>\n",
       "      <td>0.0</td>\n",
       "      <td>0.0</td>\n",
       "      <td>0.0</td>\n",
       "      <td>0.0</td>\n",
       "    </tr>\n",
       "    <tr>\n",
       "      <th>4</th>\n",
       "      <td>male</td>\n",
       "      <td>28.880</td>\n",
       "      <td>0</td>\n",
       "      <td>no</td>\n",
       "      <td>northwest</td>\n",
       "      <td>0.0</td>\n",
       "      <td>0.0</td>\n",
       "      <td>0.0</td>\n",
       "      <td>1.0</td>\n",
       "      <td>0.0</td>\n",
       "      <td>0.0</td>\n",
       "      <td>0.0</td>\n",
       "      <td>0.0</td>\n",
       "      <td>0.0</td>\n",
       "      <td>0.0</td>\n",
       "    </tr>\n",
       "  </tbody>\n",
       "</table>\n",
       "</div>"
      ],
      "text/plain": [
       "      sex     bmi  children smoker     region  less 20  20-25  25-30  30-35  \\\n",
       "0  female  27.900         0    yes  southwest      1.0    0.0    0.0    0.0   \n",
       "1    male  33.770         1     no  southeast      1.0    0.0    0.0    0.0   \n",
       "2    male  33.000         3     no  southeast      0.0    0.0    1.0    0.0   \n",
       "3    male  22.705         0     no  northwest      0.0    0.0    0.0    1.0   \n",
       "4    male  28.880         0     no  northwest      0.0    0.0    0.0    1.0   \n",
       "\n",
       "   35-40  40-45  45-50  50-55  55-60  60-65  \n",
       "0    0.0    0.0    0.0    0.0    0.0    0.0  \n",
       "1    0.0    0.0    0.0    0.0    0.0    0.0  \n",
       "2    0.0    0.0    0.0    0.0    0.0    0.0  \n",
       "3    0.0    0.0    0.0    0.0    0.0    0.0  \n",
       "4    0.0    0.0    0.0    0.0    0.0    0.0  "
      ]
     },
     "execution_count": 11,
     "metadata": {},
     "output_type": "execute_result"
    }
   ],
   "source": [
    "X = X.drop(columns='age')\n",
    "X.head()"
   ]
  },
  {
   "cell_type": "markdown",
   "metadata": {},
   "source": [
    "### Sex, children, smoker, region - one hot encoding"
   ]
  },
  {
   "cell_type": "code",
   "execution_count": 12,
   "metadata": {},
   "outputs": [],
   "source": [
    "from sklearn.preprocessing import OneHotEncoder"
   ]
  },
  {
   "cell_type": "markdown",
   "metadata": {},
   "source": [
    "We are one hot encoding binary features with dropping one value not to have two features with negative correlation (equal to -1)"
   ]
  },
  {
   "cell_type": "code",
   "execution_count": 13,
   "metadata": {},
   "outputs": [],
   "source": [
    "encoder_bin = OneHotEncoder(sparse=False, drop='first')\n",
    "encoder_bin.fit(X[['sex', 'smoker']])\n",
    "\n",
    "encoder_other = OneHotEncoder(sparse=False, drop=None)\n",
    "encoder_other.fit(X[['children', 'region']])\n",
    "\n",
    "transformed_bin = encoder_bin.transform(X[['sex', 'smoker']])\n",
    "transformed_other = encoder_other.transform(X[['children', 'region']])"
   ]
  },
  {
   "cell_type": "code",
   "execution_count": 14,
   "metadata": {},
   "outputs": [
    {
     "name": "stdout",
     "output_type": "stream",
     "text": [
      "['sex_male' 'smoker_yes']\n",
      "['children_0' 'children_1' 'children_2' 'children_3' 'children_4'\n",
      " 'children_5' 'region_northeast' 'region_northwest' 'region_southeast'\n",
      " 'region_southwest']\n"
     ]
    }
   ],
   "source": [
    "print(encoder_bin.get_feature_names(['sex', 'smoker']))\n",
    "print(encoder_other.get_feature_names(['children', 'region']))"
   ]
  },
  {
   "cell_type": "code",
   "execution_count": 15,
   "metadata": {},
   "outputs": [
    {
     "data": {
      "text/html": [
       "<div>\n",
       "<style scoped>\n",
       "    .dataframe tbody tr th:only-of-type {\n",
       "        vertical-align: middle;\n",
       "    }\n",
       "\n",
       "    .dataframe tbody tr th {\n",
       "        vertical-align: top;\n",
       "    }\n",
       "\n",
       "    .dataframe thead th {\n",
       "        text-align: right;\n",
       "    }\n",
       "</style>\n",
       "<table border=\"1\" class=\"dataframe\">\n",
       "  <thead>\n",
       "    <tr style=\"text-align: right;\">\n",
       "      <th></th>\n",
       "      <th>bmi</th>\n",
       "      <th>less 20</th>\n",
       "      <th>20-25</th>\n",
       "      <th>25-30</th>\n",
       "      <th>30-35</th>\n",
       "      <th>35-40</th>\n",
       "      <th>40-45</th>\n",
       "      <th>45-50</th>\n",
       "      <th>50-55</th>\n",
       "      <th>55-60</th>\n",
       "      <th>...</th>\n",
       "      <th>children_0</th>\n",
       "      <th>children_1</th>\n",
       "      <th>children_2</th>\n",
       "      <th>children_3</th>\n",
       "      <th>children_4</th>\n",
       "      <th>children_5</th>\n",
       "      <th>region_northeast</th>\n",
       "      <th>region_northwest</th>\n",
       "      <th>region_southeast</th>\n",
       "      <th>region_southwest</th>\n",
       "    </tr>\n",
       "  </thead>\n",
       "  <tbody>\n",
       "    <tr>\n",
       "      <th>0</th>\n",
       "      <td>27.900</td>\n",
       "      <td>1.0</td>\n",
       "      <td>0.0</td>\n",
       "      <td>0.0</td>\n",
       "      <td>0.0</td>\n",
       "      <td>0.0</td>\n",
       "      <td>0.0</td>\n",
       "      <td>0.0</td>\n",
       "      <td>0.0</td>\n",
       "      <td>0.0</td>\n",
       "      <td>...</td>\n",
       "      <td>1.0</td>\n",
       "      <td>0.0</td>\n",
       "      <td>0.0</td>\n",
       "      <td>0.0</td>\n",
       "      <td>0.0</td>\n",
       "      <td>0.0</td>\n",
       "      <td>0.0</td>\n",
       "      <td>0.0</td>\n",
       "      <td>0.0</td>\n",
       "      <td>1.0</td>\n",
       "    </tr>\n",
       "    <tr>\n",
       "      <th>1</th>\n",
       "      <td>33.770</td>\n",
       "      <td>1.0</td>\n",
       "      <td>0.0</td>\n",
       "      <td>0.0</td>\n",
       "      <td>0.0</td>\n",
       "      <td>0.0</td>\n",
       "      <td>0.0</td>\n",
       "      <td>0.0</td>\n",
       "      <td>0.0</td>\n",
       "      <td>0.0</td>\n",
       "      <td>...</td>\n",
       "      <td>0.0</td>\n",
       "      <td>1.0</td>\n",
       "      <td>0.0</td>\n",
       "      <td>0.0</td>\n",
       "      <td>0.0</td>\n",
       "      <td>0.0</td>\n",
       "      <td>0.0</td>\n",
       "      <td>0.0</td>\n",
       "      <td>1.0</td>\n",
       "      <td>0.0</td>\n",
       "    </tr>\n",
       "    <tr>\n",
       "      <th>2</th>\n",
       "      <td>33.000</td>\n",
       "      <td>0.0</td>\n",
       "      <td>0.0</td>\n",
       "      <td>1.0</td>\n",
       "      <td>0.0</td>\n",
       "      <td>0.0</td>\n",
       "      <td>0.0</td>\n",
       "      <td>0.0</td>\n",
       "      <td>0.0</td>\n",
       "      <td>0.0</td>\n",
       "      <td>...</td>\n",
       "      <td>0.0</td>\n",
       "      <td>0.0</td>\n",
       "      <td>0.0</td>\n",
       "      <td>1.0</td>\n",
       "      <td>0.0</td>\n",
       "      <td>0.0</td>\n",
       "      <td>0.0</td>\n",
       "      <td>0.0</td>\n",
       "      <td>1.0</td>\n",
       "      <td>0.0</td>\n",
       "    </tr>\n",
       "    <tr>\n",
       "      <th>3</th>\n",
       "      <td>22.705</td>\n",
       "      <td>0.0</td>\n",
       "      <td>0.0</td>\n",
       "      <td>0.0</td>\n",
       "      <td>1.0</td>\n",
       "      <td>0.0</td>\n",
       "      <td>0.0</td>\n",
       "      <td>0.0</td>\n",
       "      <td>0.0</td>\n",
       "      <td>0.0</td>\n",
       "      <td>...</td>\n",
       "      <td>1.0</td>\n",
       "      <td>0.0</td>\n",
       "      <td>0.0</td>\n",
       "      <td>0.0</td>\n",
       "      <td>0.0</td>\n",
       "      <td>0.0</td>\n",
       "      <td>0.0</td>\n",
       "      <td>1.0</td>\n",
       "      <td>0.0</td>\n",
       "      <td>0.0</td>\n",
       "    </tr>\n",
       "    <tr>\n",
       "      <th>4</th>\n",
       "      <td>28.880</td>\n",
       "      <td>0.0</td>\n",
       "      <td>0.0</td>\n",
       "      <td>0.0</td>\n",
       "      <td>1.0</td>\n",
       "      <td>0.0</td>\n",
       "      <td>0.0</td>\n",
       "      <td>0.0</td>\n",
       "      <td>0.0</td>\n",
       "      <td>0.0</td>\n",
       "      <td>...</td>\n",
       "      <td>1.0</td>\n",
       "      <td>0.0</td>\n",
       "      <td>0.0</td>\n",
       "      <td>0.0</td>\n",
       "      <td>0.0</td>\n",
       "      <td>0.0</td>\n",
       "      <td>0.0</td>\n",
       "      <td>1.0</td>\n",
       "      <td>0.0</td>\n",
       "      <td>0.0</td>\n",
       "    </tr>\n",
       "  </tbody>\n",
       "</table>\n",
       "<p>5 rows × 23 columns</p>\n",
       "</div>"
      ],
      "text/plain": [
       "      bmi  less 20  20-25  25-30  30-35  35-40  40-45  45-50  50-55  55-60  \\\n",
       "0  27.900      1.0    0.0    0.0    0.0    0.0    0.0    0.0    0.0    0.0   \n",
       "1  33.770      1.0    0.0    0.0    0.0    0.0    0.0    0.0    0.0    0.0   \n",
       "2  33.000      0.0    0.0    1.0    0.0    0.0    0.0    0.0    0.0    0.0   \n",
       "3  22.705      0.0    0.0    0.0    1.0    0.0    0.0    0.0    0.0    0.0   \n",
       "4  28.880      0.0    0.0    0.0    1.0    0.0    0.0    0.0    0.0    0.0   \n",
       "\n",
       "   ...  children_0  children_1  children_2  children_3  children_4  \\\n",
       "0  ...         1.0         0.0         0.0         0.0         0.0   \n",
       "1  ...         0.0         1.0         0.0         0.0         0.0   \n",
       "2  ...         0.0         0.0         0.0         1.0         0.0   \n",
       "3  ...         1.0         0.0         0.0         0.0         0.0   \n",
       "4  ...         1.0         0.0         0.0         0.0         0.0   \n",
       "\n",
       "   children_5  region_northeast  region_northwest  region_southeast  \\\n",
       "0         0.0               0.0               0.0               0.0   \n",
       "1         0.0               0.0               0.0               1.0   \n",
       "2         0.0               0.0               0.0               1.0   \n",
       "3         0.0               0.0               1.0               0.0   \n",
       "4         0.0               0.0               1.0               0.0   \n",
       "\n",
       "   region_southwest  \n",
       "0               1.0  \n",
       "1               0.0  \n",
       "2               0.0  \n",
       "3               0.0  \n",
       "4               0.0  \n",
       "\n",
       "[5 rows x 23 columns]"
      ]
     },
     "execution_count": 15,
     "metadata": {},
     "output_type": "execute_result"
    }
   ],
   "source": [
    "for i, name in enumerate(encoder_bin.get_feature_names(['sex', 'smoker'])):\n",
    "    X[name] = transformed_bin[:, i]\n",
    "    \n",
    "for i, name in enumerate(encoder_other.get_feature_names(['children', 'region'])):\n",
    "    X[name] = transformed_other[:, i]\n",
    "    \n",
    "X = X.drop(columns=['sex', 'children', 'smoker', 'region'])\n",
    "X.head()"
   ]
  },
  {
   "cell_type": "code",
   "execution_count": 16,
   "metadata": {},
   "outputs": [
    {
     "name": "stdout",
     "output_type": "stream",
     "text": [
      "number of 1s in categories:\n",
      " {'less 20': 137.0, '20-25': 112.0, '25-30': 111.0, '30-35': 105.0, '35-40': 100.0, '40-45': 108.0, '45-50': 115.0, '50-55': 114.0, '55-60': 102.0, '60-65': 91.0, 'sex_male': 676.0, 'smoker_yes': 274.0, 'children_0': 574.0, 'children_1': 324.0, 'children_2': 240.0, 'children_3': 157.0, 'children_4': 25.0, 'children_5': 18.0, 'region_northeast': 324.0, 'region_northwest': 325.0, 'region_southeast': 364.0, 'region_southwest': 325.0}\n"
     ]
    }
   ],
   "source": [
    "print(\"number of 1s in categories:\\n\", \n",
    "      {name_col : np.sum(X[name_col]) \n",
    "       for name_col in X.columns if name_col != 'bmi'})"
   ]
  },
  {
   "cell_type": "code",
   "execution_count": 17,
   "metadata": {
    "scrolled": false
   },
   "outputs": [
    {
     "data": {
      "text/plain": [
       "<matplotlib.axes._subplots.AxesSubplot at 0x10d08c6d0>"
      ]
     },
     "execution_count": 17,
     "metadata": {},
     "output_type": "execute_result"
    },
    {
     "data": {
      "image/png": "[encoded data removed]",
      "text/plain": [
       "<Figure size 1080x1080 with 2 Axes>"
      ]
     },
     "metadata": {
      "needs_background": "light"
     },
     "output_type": "display_data"
    }
   ],
   "source": [
    "import seaborn as sns\n",
    "\n",
    "f, ax = plt.subplots(figsize=(15, 15))\n",
    "sns.heatmap(X.corr(), annot=True, linewidths=.5, fmt= '.1f',ax=ax)"
   ]
  },
  {
   "cell_type": "markdown",
   "metadata": {},
   "source": [
    "Okay, so we don't have correlated features now"
   ]
  },
  {
   "cell_type": "markdown",
   "metadata": {},
   "source": [
    "## Split "
   ]
  },
  {
   "cell_type": "code",
   "execution_count": 18,
   "metadata": {},
   "outputs": [
    {
     "name": "stdout",
     "output_type": "stream",
     "text": [
      "length of train: 1003 length of test: 201 length of val: 134\n"
     ]
    }
   ],
   "source": [
    "from sklearn.model_selection import train_test_split\n",
    "\n",
    "y_log = np.log(y)\n",
    "\n",
    "X_train, X_test, y_train, y_test = train_test_split(X, y_log, test_size=0.25, shuffle=True)\n",
    "X_test, X_val, y_test, y_val = train_test_split(X_test, y_test, test_size=0.4, shuffle=True)\n",
    "\n",
    "print(\"length of train:\", len(y_train), \n",
    "      \"length of test:\", len(y_test), \n",
    "      \"length of val:\", len(y_val))"
   ]
  },
  {
   "cell_type": "code",
   "execution_count": 19,
   "metadata": {},
   "outputs": [
    {
     "name": "stderr",
     "output_type": "stream",
     "text": [
      "/usr/local/lib/python3.7/site-packages/pandas/core/indexing.py:576: SettingWithCopyWarning: \n",
      "A value is trying to be set on a copy of a slice from a DataFrame.\n",
      "Try using .loc[row_indexer,col_indexer] = value instead\n",
      "\n",
      "See the caveats in the documentation: http://pandas.pydata.org/pandas-docs/stable/user_guide/indexing.html#returning-a-view-versus-a-copy\n",
      "  self.obj[item_labels[indexer[info_axis]]] = value\n"
     ]
    }
   ],
   "source": [
    "from sklearn.preprocessing import StandardScaler\n",
    "\n",
    "scaler = StandardScaler()\n",
    "X_train.loc[:, 'bmi'] = scaler.fit_transform(X_train['bmi'][:, np.newaxis])\n",
    "X_test.loc[:, 'bmi'] = scaler.transform(X_test['bmi'][:, np.newaxis])\n",
    "X_val.loc[:, 'bmi'] = scaler.transform(X_val['bmi'][:, np.newaxis])"
   ]
  },
  {
   "cell_type": "code",
   "execution_count": 20,
   "metadata": {},
   "outputs": [
    {
     "data": {
      "text/html": [
       "<div>\n",
       "<style scoped>\n",
       "    .dataframe tbody tr th:only-of-type {\n",
       "        vertical-align: middle;\n",
       "    }\n",
       "\n",
       "    .dataframe tbody tr th {\n",
       "        vertical-align: top;\n",
       "    }\n",
       "\n",
       "    .dataframe thead th {\n",
       "        text-align: right;\n",
       "    }\n",
       "</style>\n",
       "<table border=\"1\" class=\"dataframe\">\n",
       "  <thead>\n",
       "    <tr style=\"text-align: right;\">\n",
       "      <th></th>\n",
       "      <th>bmi</th>\n",
       "      <th>less 20</th>\n",
       "      <th>20-25</th>\n",
       "      <th>25-30</th>\n",
       "      <th>30-35</th>\n",
       "      <th>35-40</th>\n",
       "      <th>40-45</th>\n",
       "      <th>45-50</th>\n",
       "      <th>50-55</th>\n",
       "      <th>55-60</th>\n",
       "      <th>...</th>\n",
       "      <th>children_0</th>\n",
       "      <th>children_1</th>\n",
       "      <th>children_2</th>\n",
       "      <th>children_3</th>\n",
       "      <th>children_4</th>\n",
       "      <th>children_5</th>\n",
       "      <th>region_northeast</th>\n",
       "      <th>region_northwest</th>\n",
       "      <th>region_southeast</th>\n",
       "      <th>region_southwest</th>\n",
       "    </tr>\n",
       "  </thead>\n",
       "  <tbody>\n",
       "    <tr>\n",
       "      <th>537</th>\n",
       "      <td>-0.104179</td>\n",
       "      <td>0.0</td>\n",
       "      <td>0.0</td>\n",
       "      <td>0.0</td>\n",
       "      <td>0.0</td>\n",
       "      <td>0.0</td>\n",
       "      <td>0.0</td>\n",
       "      <td>1.0</td>\n",
       "      <td>0.0</td>\n",
       "      <td>0.0</td>\n",
       "      <td>...</td>\n",
       "      <td>0.0</td>\n",
       "      <td>0.0</td>\n",
       "      <td>1.0</td>\n",
       "      <td>0.0</td>\n",
       "      <td>0.0</td>\n",
       "      <td>0.0</td>\n",
       "      <td>0.0</td>\n",
       "      <td>0.0</td>\n",
       "      <td>0.0</td>\n",
       "      <td>1.0</td>\n",
       "    </tr>\n",
       "    <tr>\n",
       "      <th>4</th>\n",
       "      <td>-0.318303</td>\n",
       "      <td>0.0</td>\n",
       "      <td>0.0</td>\n",
       "      <td>0.0</td>\n",
       "      <td>1.0</td>\n",
       "      <td>0.0</td>\n",
       "      <td>0.0</td>\n",
       "      <td>0.0</td>\n",
       "      <td>0.0</td>\n",
       "      <td>0.0</td>\n",
       "      <td>...</td>\n",
       "      <td>1.0</td>\n",
       "      <td>0.0</td>\n",
       "      <td>0.0</td>\n",
       "      <td>0.0</td>\n",
       "      <td>0.0</td>\n",
       "      <td>0.0</td>\n",
       "      <td>0.0</td>\n",
       "      <td>1.0</td>\n",
       "      <td>0.0</td>\n",
       "      <td>0.0</td>\n",
       "    </tr>\n",
       "    <tr>\n",
       "      <th>1132</th>\n",
       "      <td>1.530954</td>\n",
       "      <td>0.0</td>\n",
       "      <td>0.0</td>\n",
       "      <td>0.0</td>\n",
       "      <td>0.0</td>\n",
       "      <td>0.0</td>\n",
       "      <td>0.0</td>\n",
       "      <td>0.0</td>\n",
       "      <td>0.0</td>\n",
       "      <td>1.0</td>\n",
       "      <td>...</td>\n",
       "      <td>1.0</td>\n",
       "      <td>0.0</td>\n",
       "      <td>0.0</td>\n",
       "      <td>0.0</td>\n",
       "      <td>0.0</td>\n",
       "      <td>0.0</td>\n",
       "      <td>1.0</td>\n",
       "      <td>0.0</td>\n",
       "      <td>0.0</td>\n",
       "      <td>0.0</td>\n",
       "    </tr>\n",
       "    <tr>\n",
       "      <th>722</th>\n",
       "      <td>1.063774</td>\n",
       "      <td>0.0</td>\n",
       "      <td>0.0</td>\n",
       "      <td>0.0</td>\n",
       "      <td>0.0</td>\n",
       "      <td>0.0</td>\n",
       "      <td>0.0</td>\n",
       "      <td>0.0</td>\n",
       "      <td>0.0</td>\n",
       "      <td>0.0</td>\n",
       "      <td>...</td>\n",
       "      <td>1.0</td>\n",
       "      <td>0.0</td>\n",
       "      <td>0.0</td>\n",
       "      <td>0.0</td>\n",
       "      <td>0.0</td>\n",
       "      <td>0.0</td>\n",
       "      <td>0.0</td>\n",
       "      <td>0.0</td>\n",
       "      <td>0.0</td>\n",
       "      <td>1.0</td>\n",
       "    </tr>\n",
       "    <tr>\n",
       "      <th>1067</th>\n",
       "      <td>1.916216</td>\n",
       "      <td>0.0</td>\n",
       "      <td>0.0</td>\n",
       "      <td>0.0</td>\n",
       "      <td>0.0</td>\n",
       "      <td>1.0</td>\n",
       "      <td>0.0</td>\n",
       "      <td>0.0</td>\n",
       "      <td>0.0</td>\n",
       "      <td>0.0</td>\n",
       "      <td>...</td>\n",
       "      <td>1.0</td>\n",
       "      <td>0.0</td>\n",
       "      <td>0.0</td>\n",
       "      <td>0.0</td>\n",
       "      <td>0.0</td>\n",
       "      <td>0.0</td>\n",
       "      <td>1.0</td>\n",
       "      <td>0.0</td>\n",
       "      <td>0.0</td>\n",
       "      <td>0.0</td>\n",
       "    </tr>\n",
       "  </tbody>\n",
       "</table>\n",
       "<p>5 rows × 23 columns</p>\n",
       "</div>"
      ],
      "text/plain": [
       "           bmi  less 20  20-25  25-30  30-35  35-40  40-45  45-50  50-55  \\\n",
       "537  -0.104179      0.0    0.0    0.0    0.0    0.0    0.0    1.0    0.0   \n",
       "4    -0.318303      0.0    0.0    0.0    1.0    0.0    0.0    0.0    0.0   \n",
       "1132  1.530954      0.0    0.0    0.0    0.0    0.0    0.0    0.0    0.0   \n",
       "722   1.063774      0.0    0.0    0.0    0.0    0.0    0.0    0.0    0.0   \n",
       "1067  1.916216      0.0    0.0    0.0    0.0    1.0    0.0    0.0    0.0   \n",
       "\n",
       "      55-60  ...  children_0  children_1  children_2  children_3  children_4  \\\n",
       "537     0.0  ...         0.0         0.0         1.0         0.0         0.0   \n",
       "4       0.0  ...         1.0         0.0         0.0         0.0         0.0   \n",
       "1132    1.0  ...         1.0         0.0         0.0         0.0         0.0   \n",
       "722     0.0  ...         1.0         0.0         0.0         0.0         0.0   \n",
       "1067    0.0  ...         1.0         0.0         0.0         0.0         0.0   \n",
       "\n",
       "      children_5  region_northeast  region_northwest  region_southeast  \\\n",
       "537          0.0               0.0               0.0               0.0   \n",
       "4            0.0               0.0               1.0               0.0   \n",
       "1132         0.0               1.0               0.0               0.0   \n",
       "722          0.0               0.0               0.0               0.0   \n",
       "1067         0.0               1.0               0.0               0.0   \n",
       "\n",
       "      region_southwest  \n",
       "537                1.0  \n",
       "4                  0.0  \n",
       "1132               0.0  \n",
       "722                1.0  \n",
       "1067               0.0  \n",
       "\n",
       "[5 rows x 23 columns]"
      ]
     },
     "execution_count": 20,
     "metadata": {},
     "output_type": "execute_result"
    }
   ],
   "source": [
    "X_train.head()"
   ]
  },
  {
   "cell_type": "code",
   "execution_count": 21,
   "metadata": {},
   "outputs": [
    {
     "data": {
      "text/html": [
       "<div>\n",
       "<style scoped>\n",
       "    .dataframe tbody tr th:only-of-type {\n",
       "        vertical-align: middle;\n",
       "    }\n",
       "\n",
       "    .dataframe tbody tr th {\n",
       "        vertical-align: top;\n",
       "    }\n",
       "\n",
       "    .dataframe thead th {\n",
       "        text-align: right;\n",
       "    }\n",
       "</style>\n",
       "<table border=\"1\" class=\"dataframe\">\n",
       "  <thead>\n",
       "    <tr style=\"text-align: right;\">\n",
       "      <th></th>\n",
       "      <th>bmi</th>\n",
       "      <th>less 20</th>\n",
       "      <th>20-25</th>\n",
       "      <th>25-30</th>\n",
       "      <th>30-35</th>\n",
       "      <th>35-40</th>\n",
       "      <th>40-45</th>\n",
       "      <th>45-50</th>\n",
       "      <th>50-55</th>\n",
       "      <th>55-60</th>\n",
       "      <th>...</th>\n",
       "      <th>children_0</th>\n",
       "      <th>children_1</th>\n",
       "      <th>children_2</th>\n",
       "      <th>children_3</th>\n",
       "      <th>children_4</th>\n",
       "      <th>children_5</th>\n",
       "      <th>region_northeast</th>\n",
       "      <th>region_northwest</th>\n",
       "      <th>region_southeast</th>\n",
       "      <th>region_southwest</th>\n",
       "    </tr>\n",
       "  </thead>\n",
       "  <tbody>\n",
       "    <tr>\n",
       "      <th>61</th>\n",
       "      <td>0.457087</td>\n",
       "      <td>0.0</td>\n",
       "      <td>0.0</td>\n",
       "      <td>0.0</td>\n",
       "      <td>0.0</td>\n",
       "      <td>0.0</td>\n",
       "      <td>0.0</td>\n",
       "      <td>0.0</td>\n",
       "      <td>0.0</td>\n",
       "      <td>0.0</td>\n",
       "      <td>...</td>\n",
       "      <td>0.0</td>\n",
       "      <td>0.0</td>\n",
       "      <td>0.0</td>\n",
       "      <td>0.0</td>\n",
       "      <td>1.0</td>\n",
       "      <td>0.0</td>\n",
       "      <td>0.0</td>\n",
       "      <td>0.0</td>\n",
       "      <td>1.0</td>\n",
       "      <td>0.0</td>\n",
       "    </tr>\n",
       "    <tr>\n",
       "      <th>719</th>\n",
       "      <td>0.421400</td>\n",
       "      <td>0.0</td>\n",
       "      <td>0.0</td>\n",
       "      <td>0.0</td>\n",
       "      <td>0.0</td>\n",
       "      <td>0.0</td>\n",
       "      <td>0.0</td>\n",
       "      <td>0.0</td>\n",
       "      <td>0.0</td>\n",
       "      <td>1.0</td>\n",
       "      <td>...</td>\n",
       "      <td>1.0</td>\n",
       "      <td>0.0</td>\n",
       "      <td>0.0</td>\n",
       "      <td>0.0</td>\n",
       "      <td>0.0</td>\n",
       "      <td>0.0</td>\n",
       "      <td>0.0</td>\n",
       "      <td>1.0</td>\n",
       "      <td>0.0</td>\n",
       "      <td>0.0</td>\n",
       "    </tr>\n",
       "    <tr>\n",
       "      <th>553</th>\n",
       "      <td>0.144011</td>\n",
       "      <td>0.0</td>\n",
       "      <td>0.0</td>\n",
       "      <td>0.0</td>\n",
       "      <td>0.0</td>\n",
       "      <td>0.0</td>\n",
       "      <td>0.0</td>\n",
       "      <td>0.0</td>\n",
       "      <td>1.0</td>\n",
       "      <td>0.0</td>\n",
       "      <td>...</td>\n",
       "      <td>0.0</td>\n",
       "      <td>0.0</td>\n",
       "      <td>1.0</td>\n",
       "      <td>0.0</td>\n",
       "      <td>0.0</td>\n",
       "      <td>0.0</td>\n",
       "      <td>0.0</td>\n",
       "      <td>1.0</td>\n",
       "      <td>0.0</td>\n",
       "      <td>0.0</td>\n",
       "    </tr>\n",
       "    <tr>\n",
       "      <th>80</th>\n",
       "      <td>-0.641923</td>\n",
       "      <td>0.0</td>\n",
       "      <td>0.0</td>\n",
       "      <td>0.0</td>\n",
       "      <td>1.0</td>\n",
       "      <td>0.0</td>\n",
       "      <td>0.0</td>\n",
       "      <td>0.0</td>\n",
       "      <td>0.0</td>\n",
       "      <td>0.0</td>\n",
       "      <td>...</td>\n",
       "      <td>0.0</td>\n",
       "      <td>1.0</td>\n",
       "      <td>0.0</td>\n",
       "      <td>0.0</td>\n",
       "      <td>0.0</td>\n",
       "      <td>0.0</td>\n",
       "      <td>1.0</td>\n",
       "      <td>0.0</td>\n",
       "      <td>0.0</td>\n",
       "      <td>0.0</td>\n",
       "    </tr>\n",
       "    <tr>\n",
       "      <th>207</th>\n",
       "      <td>-0.503229</td>\n",
       "      <td>0.0</td>\n",
       "      <td>0.0</td>\n",
       "      <td>0.0</td>\n",
       "      <td>0.0</td>\n",
       "      <td>0.0</td>\n",
       "      <td>0.0</td>\n",
       "      <td>0.0</td>\n",
       "      <td>0.0</td>\n",
       "      <td>0.0</td>\n",
       "      <td>...</td>\n",
       "      <td>0.0</td>\n",
       "      <td>0.0</td>\n",
       "      <td>1.0</td>\n",
       "      <td>0.0</td>\n",
       "      <td>0.0</td>\n",
       "      <td>0.0</td>\n",
       "      <td>1.0</td>\n",
       "      <td>0.0</td>\n",
       "      <td>0.0</td>\n",
       "      <td>0.0</td>\n",
       "    </tr>\n",
       "  </tbody>\n",
       "</table>\n",
       "<p>5 rows × 23 columns</p>\n",
       "</div>"
      ],
      "text/plain": [
       "          bmi  less 20  20-25  25-30  30-35  35-40  40-45  45-50  50-55  \\\n",
       "61   0.457087      0.0    0.0    0.0    0.0    0.0    0.0    0.0    0.0   \n",
       "719  0.421400      0.0    0.0    0.0    0.0    0.0    0.0    0.0    0.0   \n",
       "553  0.144011      0.0    0.0    0.0    0.0    0.0    0.0    0.0    1.0   \n",
       "80  -0.641923      0.0    0.0    0.0    1.0    0.0    0.0    0.0    0.0   \n",
       "207 -0.503229      0.0    0.0    0.0    0.0    0.0    0.0    0.0    0.0   \n",
       "\n",
       "     55-60  ...  children_0  children_1  children_2  children_3  children_4  \\\n",
       "61     0.0  ...         0.0         0.0         0.0         0.0         1.0   \n",
       "719    1.0  ...         1.0         0.0         0.0         0.0         0.0   \n",
       "553    0.0  ...         0.0         0.0         1.0         0.0         0.0   \n",
       "80     0.0  ...         0.0         1.0         0.0         0.0         0.0   \n",
       "207    0.0  ...         0.0         0.0         1.0         0.0         0.0   \n",
       "\n",
       "     children_5  region_northeast  region_northwest  region_southeast  \\\n",
       "61          0.0               0.0               0.0               1.0   \n",
       "719         0.0               0.0               1.0               0.0   \n",
       "553         0.0               0.0               1.0               0.0   \n",
       "80          0.0               1.0               0.0               0.0   \n",
       "207         0.0               1.0               0.0               0.0   \n",
       "\n",
       "     region_southwest  \n",
       "61                0.0  \n",
       "719               0.0  \n",
       "553               0.0  \n",
       "80                0.0  \n",
       "207               0.0  \n",
       "\n",
       "[5 rows x 23 columns]"
      ]
     },
     "execution_count": 21,
     "metadata": {},
     "output_type": "execute_result"
    }
   ],
   "source": [
    "X_test.head()"
   ]
  },
  {
   "cell_type": "markdown",
   "metadata": {},
   "source": [
    "# Making predictions\n",
    "\n",
    "### Let's start with basic linear regression and see where it goes"
   ]
  },
  {
   "cell_type": "code",
   "execution_count": 22,
   "metadata": {},
   "outputs": [
    {
     "data": {
      "image/png": "[encoded data removed]",
      "text/plain": [
       "<Figure size 864x360 with 1 Axes>"
      ]
     },
     "metadata": {
      "needs_background": "light"
     },
     "output_type": "display_data"
    }
   ],
   "source": [
    "from sklearn.linear_model import LinearRegression\n",
    "\n",
    "linear_regression = LinearRegression()\n",
    "linear_regression.fit(X_train, y_train)\n",
    "\n",
    "\n",
    "plt.figure(figsize=(12, 5))\n",
    "\n",
    "coef = linear_regression.coef_\n",
    "x = range(len(coef))\n",
    "\n",
    "plt.bar(x, coef)\n",
    "plt.xticks(x, X.columns, rotation=40)\n",
    "plt.title('Weights of features in linear regression')\n",
    "plt.show()"
   ]
  },
  {
   "cell_type": "code",
   "execution_count": 23,
   "metadata": {},
   "outputs": [],
   "source": [
    "lin_regr_feature_importance = X.columns[np.argsort(np.abs(linear_regression.coef_))[::-1]]"
   ]
  },
  {
   "cell_type": "markdown",
   "metadata": {},
   "source": [
    "Evaluation "
   ]
  },
  {
   "cell_type": "code",
   "execution_count": 24,
   "metadata": {},
   "outputs": [],
   "source": [
    "from sklearn.metrics import mean_squared_error, mean_absolute_error\n",
    "\n",
    "def compute_errors(y_test, y_pred):\n",
    "    print('MSE:', mean_squared_error(np.exp(y_test), np.exp(y_pred)))\n",
    "    print('RMSE:', np.sqrt(mean_squared_error(np.exp(y_test), np.exp(y_pred))))\n",
    "    print('MAE:', mean_absolute_error(np.exp(y_test), np.exp(y_pred)))\n",
    "\n",
    "    print('mean absolute relative_error:', \n",
    "          1 / len(y_test) * np.sum(np.abs(np.exp(y_pred) / np.exp(y_test) - 1) * 100), '%')\n",
    "\n",
    "def errors_of_prediction(model, X_test, y_test=y_test):\n",
    "    y_test_predicted = model.predict(X_test)\n",
    "    compute_errors(y_test, y_test_predicted)"
   ]
  },
  {
   "cell_type": "code",
   "execution_count": 25,
   "metadata": {},
   "outputs": [
    {
     "name": "stdout",
     "output_type": "stream",
     "text": [
      "MSE: 65253518.22352159\n",
      "RMSE: 8077.964980335183\n",
      "MAE: 4671.964079955061\n",
      "mean absolute relative_error: 37.015987523844935 %\n"
     ]
    }
   ],
   "source": [
    "errors_of_prediction(linear_regression, X_test)"
   ]
  },
  {
   "cell_type": "markdown",
   "metadata": {},
   "source": [
    "As we see by weights, not all the features appear to be valuable in the linear regression model, let's try to improve the result by selecting most important ones."
   ]
  },
  {
   "cell_type": "markdown",
   "metadata": {},
   "source": [
    "#### Feature selection"
   ]
  },
  {
   "cell_type": "code",
   "execution_count": 26,
   "metadata": {},
   "outputs": [],
   "source": [
    "from sklearn.feature_selection import RFECV\n",
    "\n",
    "def feature_selection_estimation(model):\n",
    "    rfecv = RFECV(estimator=model, step=1, cv=5)\n",
    "    selector = rfecv.fit(X_train, y_train)\n",
    "    \n",
    "    scores = selector.grid_scores_\n",
    "    plt.plot(range(len(scores)), scores)\n",
    "    plt.xlabel('Количество')\n",
    "    plt.ylabel('Качество на кросс-валидации')\n",
    "    plt.show()\n",
    "    \n",
    "    print('filtered columns:', X.columns[rfecv.support_])\n",
    "    print('deleted:', [col for col in X.columns if col not in X.columns[rfecv.support_]])\n",
    "    \n",
    "    X_train_filtered = selector.transform(X_train)\n",
    "    X_test_filtered = selector.transform(X_test)\n",
    "\n",
    "\n",
    "    model.fit(X_train_filtered, y_train)\n",
    "    errors_of_prediction(model, X_test_filtered)"
   ]
  },
  {
   "cell_type": "code",
   "execution_count": 27,
   "metadata": {},
   "outputs": [
    {
     "data": {
      "image/png": "[encoded data removed]",
      "text/plain": [
       "<Figure size 432x288 with 1 Axes>"
      ]
     },
     "metadata": {
      "needs_background": "light"
     },
     "output_type": "display_data"
    },
    {
     "name": "stdout",
     "output_type": "stream",
     "text": [
      "filtered columns: Index(['bmi', 'less 20', '20-25', '25-30', '30-35', '35-40', '45-50', '50-55',\n",
      "       '55-60', '60-65', 'sex_male', 'smoker_yes', 'children_0', 'children_1',\n",
      "       'children_3', 'children_4', 'children_5', 'region_northeast',\n",
      "       'region_southeast', 'region_southwest'],\n",
      "      dtype='object')\n",
      "deleted: ['40-45', 'children_2', 'region_northwest']\n",
      "MSE: 65105271.7696675\n",
      "RMSE: 8068.783785036472\n",
      "MAE: 4666.242664047965\n",
      "mean absolute relative_error: 36.91474433546534 %\n"
     ]
    }
   ],
   "source": [
    "feature_selection_estimation(linear_regression)"
   ]
  },
  {
   "cell_type": "markdown",
   "metadata": {},
   "source": [
    "Seems like for linear regression all the features are important as a result was slightly better for all the features"
   ]
  },
  {
   "cell_type": "markdown",
   "metadata": {},
   "source": [
    "### Regression with random forest"
   ]
  },
  {
   "cell_type": "code",
   "execution_count": 28,
   "metadata": {},
   "outputs": [
    {
     "data": {
      "image/png": "[encoded data removed]",
      "text/plain": [
       "<Figure size 864x360 with 1 Axes>"
      ]
     },
     "metadata": {
      "needs_background": "light"
     },
     "output_type": "display_data"
    }
   ],
   "source": [
    "from sklearn.ensemble import RandomForestRegressor\n",
    "\n",
    "rf = RandomForestRegressor(criterion='mse', n_estimators=15)\n",
    "rf.fit(X_train, y_train)\n",
    "\n",
    "plt.figure(figsize=(12, 5))\n",
    "\n",
    "coef = rf.feature_importances_\n",
    "x = range(len(coef))\n",
    "\n",
    "plt.bar(x, coef)\n",
    "plt.xticks(x, X.columns, rotation=40)\n",
    "plt.title('Feature importance in random forest regressor')\n",
    "plt.show()"
   ]
  },
  {
   "cell_type": "code",
   "execution_count": 29,
   "metadata": {},
   "outputs": [
    {
     "name": "stdout",
     "output_type": "stream",
     "text": [
      "MSE: 32354221.645932168\n",
      "RMSE: 5688.077148380828\n",
      "MAE: 3326.3689068945146\n",
      "mean absolute relative_error: 40.20706053702565 %\n"
     ]
    }
   ],
   "source": [
    "errors_of_prediction(rf, X_test)"
   ]
  },
  {
   "cell_type": "code",
   "execution_count": 30,
   "metadata": {},
   "outputs": [
    {
     "data": {
      "image/png": "[encoded data removed]",
      "text/plain": [
       "<Figure size 432x288 with 1 Axes>"
      ]
     },
     "metadata": {
      "needs_background": "light"
     },
     "output_type": "display_data"
    },
    {
     "name": "stdout",
     "output_type": "stream",
     "text": [
      "filtered columns: Index(['bmi', 'less 20', '20-25', '25-30', '30-35', '35-40', '40-45', '45-50',\n",
      "       '50-55', '55-60', '60-65', 'sex_male', 'smoker_yes', 'children_0',\n",
      "       'children_1', 'children_2', 'children_3', 'children_4',\n",
      "       'region_northeast', 'region_northwest', 'region_southeast',\n",
      "       'region_southwest'],\n",
      "      dtype='object')\n",
      "deleted: ['children_5']\n",
      "MSE: 32870495.437950257\n",
      "RMSE: 5733.279640655099\n",
      "MAE: 3377.8063766587625\n",
      "mean absolute relative_error: 38.52710682688683 %\n"
     ]
    }
   ],
   "source": [
    "feature_selection_estimation(rf)"
   ]
  },
  {
   "cell_type": "markdown",
   "metadata": {},
   "source": [
    "Grid search best hyperparams for random forest"
   ]
  },
  {
   "cell_type": "code",
   "execution_count": 31,
   "metadata": {},
   "outputs": [],
   "source": [
    "from sklearn.model_selection import RandomizedSearchCV, cross_val_score"
   ]
  },
  {
   "cell_type": "code",
   "execution_count": 32,
   "metadata": {},
   "outputs": [],
   "source": [
    "def search_best_hyperparams(estimator, params, X_train=X_train):\n",
    "    searcher = RandomizedSearchCV(estimator=estimator, param_distributions=params, cv=5, n_iter=30)\n",
    "    searcher.fit(X_train, y_train)\n",
    "    \n",
    "    return searcher.best_estimator_, searcher.best_params_"
   ]
  },
  {
   "cell_type": "code",
   "execution_count": 33,
   "metadata": {},
   "outputs": [
    {
     "name": "stdout",
     "output_type": "stream",
     "text": [
      "RandomForestRegressor(bootstrap=True, criterion='mse', max_depth=9,\n",
      "                      max_features='auto', max_leaf_nodes=25,\n",
      "                      min_impurity_decrease=0.0, min_impurity_split=None,\n",
      "                      min_samples_leaf=1, min_samples_split=2,\n",
      "                      min_weight_fraction_leaf=0.0, n_estimators=180,\n",
      "                      n_jobs=None, oob_score=False, random_state=None,\n",
      "                      verbose=0, warm_start=False)\n"
     ]
    }
   ],
   "source": [
    "rf_best_estimator, rf_best_params = search_best_hyperparams(RandomForestRegressor(criterion='mse'), \n",
    "                                                      params={'n_estimators': range(10, 300, 10),\n",
    "                                                              'max_depth': range(3, 12),\n",
    "                                                              'max_leaf_nodes': range(10, 100, 5)})\n",
    "\n",
    "print(rf_best_estimator)"
   ]
  },
  {
   "cell_type": "code",
   "execution_count": 34,
   "metadata": {},
   "outputs": [
    {
     "name": "stdout",
     "output_type": "stream",
     "text": [
      "best params for random forest: {'n_estimators': 180, 'max_leaf_nodes': 25, 'max_depth': 9}\n"
     ]
    }
   ],
   "source": [
    "print('best params for random forest:', rf_best_params)"
   ]
  },
  {
   "cell_type": "code",
   "execution_count": 35,
   "metadata": {},
   "outputs": [
    {
     "name": "stdout",
     "output_type": "stream",
     "text": [
      "MSE: 29578594.34317514\n",
      "RMSE: 5438.620628723347\n",
      "MAE: 3182.5367766894246\n",
      "mean absolute relative_error: 33.521919749141965 %\n"
     ]
    }
   ],
   "source": [
    "errors_of_prediction(rf_best_estimator, X_test)"
   ]
  },
  {
   "cell_type": "code",
   "execution_count": 36,
   "metadata": {
    "scrolled": false
   },
   "outputs": [
    {
     "data": {
      "text/html": [
       "<div>\n",
       "<style scoped>\n",
       "    .dataframe tbody tr th:only-of-type {\n",
       "        vertical-align: middle;\n",
       "    }\n",
       "\n",
       "    .dataframe tbody tr th {\n",
       "        vertical-align: top;\n",
       "    }\n",
       "\n",
       "    .dataframe thead th {\n",
       "        text-align: right;\n",
       "    }\n",
       "</style>\n",
       "<table border=\"1\" class=\"dataframe\">\n",
       "  <thead>\n",
       "    <tr style=\"text-align: right;\">\n",
       "      <th></th>\n",
       "      <th>lin regr</th>\n",
       "      <th>rf regr</th>\n",
       "    </tr>\n",
       "  </thead>\n",
       "  <tbody>\n",
       "    <tr>\n",
       "      <th>0</th>\n",
       "      <td>smoker_yes</td>\n",
       "      <td>smoker_yes</td>\n",
       "    </tr>\n",
       "    <tr>\n",
       "      <th>1</th>\n",
       "      <td>less 20</td>\n",
       "      <td>less 20</td>\n",
       "    </tr>\n",
       "    <tr>\n",
       "      <th>2</th>\n",
       "      <td>20-25</td>\n",
       "      <td>20-25</td>\n",
       "    </tr>\n",
       "    <tr>\n",
       "      <th>3</th>\n",
       "      <td>60-65</td>\n",
       "      <td>bmi</td>\n",
       "    </tr>\n",
       "    <tr>\n",
       "      <th>4</th>\n",
       "      <td>25-30</td>\n",
       "      <td>25-30</td>\n",
       "    </tr>\n",
       "    <tr>\n",
       "      <th>5</th>\n",
       "      <td>55-60</td>\n",
       "      <td>30-35</td>\n",
       "    </tr>\n",
       "    <tr>\n",
       "      <th>6</th>\n",
       "      <td>50-55</td>\n",
       "      <td>60-65</td>\n",
       "    </tr>\n",
       "    <tr>\n",
       "      <th>7</th>\n",
       "      <td>30-35</td>\n",
       "      <td>children_0</td>\n",
       "    </tr>\n",
       "    <tr>\n",
       "      <th>8</th>\n",
       "      <td>children_4</td>\n",
       "      <td>55-60</td>\n",
       "    </tr>\n",
       "    <tr>\n",
       "      <th>9</th>\n",
       "      <td>children_0</td>\n",
       "      <td>50-55</td>\n",
       "    </tr>\n",
       "    <tr>\n",
       "      <th>10</th>\n",
       "      <td>35-40</td>\n",
       "      <td>children_2</td>\n",
       "    </tr>\n",
       "    <tr>\n",
       "      <th>11</th>\n",
       "      <td>45-50</td>\n",
       "      <td>region_northeast</td>\n",
       "    </tr>\n",
       "    <tr>\n",
       "      <th>12</th>\n",
       "      <td>region_northeast</td>\n",
       "      <td>children_4</td>\n",
       "    </tr>\n",
       "    <tr>\n",
       "      <th>13</th>\n",
       "      <td>children_1</td>\n",
       "      <td>children_3</td>\n",
       "    </tr>\n",
       "    <tr>\n",
       "      <th>14</th>\n",
       "      <td>children_5</td>\n",
       "      <td>35-40</td>\n",
       "    </tr>\n",
       "    <tr>\n",
       "      <th>15</th>\n",
       "      <td>region_southeast</td>\n",
       "      <td>sex_male</td>\n",
       "    </tr>\n",
       "    <tr>\n",
       "      <th>16</th>\n",
       "      <td>bmi</td>\n",
       "      <td>45-50</td>\n",
       "    </tr>\n",
       "    <tr>\n",
       "      <th>17</th>\n",
       "      <td>children_3</td>\n",
       "      <td>children_1</td>\n",
       "    </tr>\n",
       "    <tr>\n",
       "      <th>18</th>\n",
       "      <td>sex_male</td>\n",
       "      <td>region_northwest</td>\n",
       "    </tr>\n",
       "    <tr>\n",
       "      <th>19</th>\n",
       "      <td>region_southwest</td>\n",
       "      <td>region_southeast</td>\n",
       "    </tr>\n",
       "    <tr>\n",
       "      <th>20</th>\n",
       "      <td>region_northwest</td>\n",
       "      <td>region_southwest</td>\n",
       "    </tr>\n",
       "    <tr>\n",
       "      <th>21</th>\n",
       "      <td>children_2</td>\n",
       "      <td>40-45</td>\n",
       "    </tr>\n",
       "    <tr>\n",
       "      <th>22</th>\n",
       "      <td>40-45</td>\n",
       "      <td>children_5</td>\n",
       "    </tr>\n",
       "  </tbody>\n",
       "</table>\n",
       "</div>"
      ],
      "text/plain": [
       "            lin regr           rf regr\n",
       "0         smoker_yes        smoker_yes\n",
       "1            less 20           less 20\n",
       "2              20-25             20-25\n",
       "3              60-65               bmi\n",
       "4              25-30             25-30\n",
       "5              55-60             30-35\n",
       "6              50-55             60-65\n",
       "7              30-35        children_0\n",
       "8         children_4             55-60\n",
       "9         children_0             50-55\n",
       "10             35-40        children_2\n",
       "11             45-50  region_northeast\n",
       "12  region_northeast        children_4\n",
       "13        children_1        children_3\n",
       "14        children_5             35-40\n",
       "15  region_southeast          sex_male\n",
       "16               bmi             45-50\n",
       "17        children_3        children_1\n",
       "18          sex_male  region_northwest\n",
       "19  region_southwest  region_southeast\n",
       "20  region_northwest  region_southwest\n",
       "21        children_2             40-45\n",
       "22             40-45        children_5"
      ]
     },
     "execution_count": 36,
     "metadata": {},
     "output_type": "execute_result"
    }
   ],
   "source": [
    "rf_regr_feature_importance = X.columns[np.argsort(rf_best_estimator.feature_importances_)[::-1]]\n",
    "pd.DataFrame(np.column_stack((lin_regr_feature_importance,\n",
    "                              rf_regr_feature_importance)), columns=[\"lin regr\",\n",
    "                                                                     \"rf regr\"])"
   ]
  },
  {
   "cell_type": "markdown",
   "metadata": {},
   "source": [
    "### Stochastic Gradient Regressor"
   ]
  },
  {
   "cell_type": "code",
   "execution_count": 37,
   "metadata": {},
   "outputs": [],
   "source": [
    "from sklearn.linear_model import SGDRegressor"
   ]
  },
  {
   "cell_type": "code",
   "execution_count": 38,
   "metadata": {},
   "outputs": [
    {
     "data": {
      "image/png": "[encoded data removed]",
      "text/plain": [
       "<Figure size 864x360 with 1 Axes>"
      ]
     },
     "metadata": {
      "needs_background": "light"
     },
     "output_type": "display_data"
    }
   ],
   "source": [
    "sgd = SGDRegressor()\n",
    "sgd.fit(X_train, y_train)\n",
    "\n",
    "plt.figure(figsize=(12, 5))\n",
    "coef = sgd.coef_\n",
    "x = range(len(coef))\n",
    "\n",
    "plt.bar(x, coef)\n",
    "plt.xticks(x, X.columns, rotation=40)\n",
    "plt.title('Feature importance in SGD')\n",
    "plt.show()"
   ]
  },
  {
   "cell_type": "code",
   "execution_count": 39,
   "metadata": {},
   "outputs": [
    {
     "name": "stdout",
     "output_type": "stream",
     "text": [
      "MSE: 66817980.514323145\n",
      "RMSE: 8174.226600377748\n",
      "MAE: 4917.9399367806145\n",
      "mean absolute relative_error: 36.7340754448583 %\n"
     ]
    }
   ],
   "source": [
    "errors_of_prediction(sgd, X_test)"
   ]
  },
  {
   "cell_type": "code",
   "execution_count": 40,
   "metadata": {},
   "outputs": [
    {
     "name": "stderr",
     "output_type": "stream",
     "text": [
      "/usr/local/lib/python3.7/site-packages/sklearn/linear_model/stochastic_gradient.py:1185: ConvergenceWarning: Maximum number of iteration reached before convergence. Consider increasing max_iter to improve the fit.\n",
      "  ConvergenceWarning)\n",
      "/usr/local/lib/python3.7/site-packages/sklearn/linear_model/stochastic_gradient.py:1185: ConvergenceWarning: Maximum number of iteration reached before convergence. Consider increasing max_iter to improve the fit.\n",
      "  ConvergenceWarning)\n",
      "/usr/local/lib/python3.7/site-packages/sklearn/linear_model/stochastic_gradient.py:1185: ConvergenceWarning: Maximum number of iteration reached before convergence. Consider increasing max_iter to improve the fit.\n",
      "  ConvergenceWarning)\n",
      "/usr/local/lib/python3.7/site-packages/sklearn/linear_model/stochastic_gradient.py:1185: ConvergenceWarning: Maximum number of iteration reached before convergence. Consider increasing max_iter to improve the fit.\n",
      "  ConvergenceWarning)\n",
      "/usr/local/lib/python3.7/site-packages/sklearn/linear_model/stochastic_gradient.py:1185: ConvergenceWarning: Maximum number of iteration reached before convergence. Consider increasing max_iter to improve the fit.\n",
      "  ConvergenceWarning)\n",
      "/usr/local/lib/python3.7/site-packages/sklearn/linear_model/stochastic_gradient.py:1185: ConvergenceWarning: Maximum number of iteration reached before convergence. Consider increasing max_iter to improve the fit.\n",
      "  ConvergenceWarning)\n",
      "/usr/local/lib/python3.7/site-packages/sklearn/linear_model/stochastic_gradient.py:1185: ConvergenceWarning: Maximum number of iteration reached before convergence. Consider increasing max_iter to improve the fit.\n",
      "  ConvergenceWarning)\n",
      "/usr/local/lib/python3.7/site-packages/sklearn/linear_model/stochastic_gradient.py:1185: ConvergenceWarning: Maximum number of iteration reached before convergence. Consider increasing max_iter to improve the fit.\n",
      "  ConvergenceWarning)\n",
      "/usr/local/lib/python3.7/site-packages/sklearn/linear_model/stochastic_gradient.py:1185: ConvergenceWarning: Maximum number of iteration reached before convergence. Consider increasing max_iter to improve the fit.\n",
      "  ConvergenceWarning)\n",
      "/usr/local/lib/python3.7/site-packages/sklearn/linear_model/stochastic_gradient.py:1185: ConvergenceWarning: Maximum number of iteration reached before convergence. Consider increasing max_iter to improve the fit.\n",
      "  ConvergenceWarning)\n",
      "/usr/local/lib/python3.7/site-packages/sklearn/linear_model/stochastic_gradient.py:1185: ConvergenceWarning: Maximum number of iteration reached before convergence. Consider increasing max_iter to improve the fit.\n",
      "  ConvergenceWarning)\n",
      "/usr/local/lib/python3.7/site-packages/sklearn/linear_model/stochastic_gradient.py:1185: ConvergenceWarning: Maximum number of iteration reached before convergence. Consider increasing max_iter to improve the fit.\n",
      "  ConvergenceWarning)\n",
      "/usr/local/lib/python3.7/site-packages/sklearn/linear_model/stochastic_gradient.py:1185: ConvergenceWarning: Maximum number of iteration reached before convergence. Consider increasing max_iter to improve the fit.\n",
      "  ConvergenceWarning)\n",
      "/usr/local/lib/python3.7/site-packages/sklearn/linear_model/stochastic_gradient.py:1185: ConvergenceWarning: Maximum number of iteration reached before convergence. Consider increasing max_iter to improve the fit.\n",
      "  ConvergenceWarning)\n",
      "/usr/local/lib/python3.7/site-packages/sklearn/linear_model/stochastic_gradient.py:1185: ConvergenceWarning: Maximum number of iteration reached before convergence. Consider increasing max_iter to improve the fit.\n",
      "  ConvergenceWarning)\n",
      "/usr/local/lib/python3.7/site-packages/sklearn/linear_model/stochastic_gradient.py:1185: ConvergenceWarning: Maximum number of iteration reached before convergence. Consider increasing max_iter to improve the fit.\n",
      "  ConvergenceWarning)\n",
      "/usr/local/lib/python3.7/site-packages/sklearn/linear_model/stochastic_gradient.py:1185: ConvergenceWarning: Maximum number of iteration reached before convergence. Consider increasing max_iter to improve the fit.\n",
      "  ConvergenceWarning)\n"
     ]
    },
    {
     "name": "stdout",
     "output_type": "stream",
     "text": [
      "best model: SGDRegressor(alpha=0.001, average=False, early_stopping=True, epsilon=0.1,\n",
      "             eta0=0.1, fit_intercept=True, l1_ratio=0.2,\n",
      "             learning_rate='adaptive', loss='squared_loss', max_iter=1000,\n",
      "             n_iter_no_change=5, penalty='elasticnet', power_t=0.25,\n",
      "             random_state=None, shuffle=True, tol=0.001,\n",
      "             validation_fraction=0.1, verbose=0, warm_start=False)\n",
      "best params for SGD: {'tol': 0.001, 'power_t': 0.25, 'penalty': 'elasticnet', 'learning_rate': 'adaptive', 'l1_ratio': 0.2, 'eta0': 0.1, 'early_stopping': True, 'alpha': 0.001}\n",
      "Results of evaluating the best SGD\n",
      "MSE: 66004021.272378854\n",
      "RMSE: 8124.285893072624\n",
      "MAE: 4729.710955337171\n",
      "mean absolute relative_error: 37.30804677417759 %\n"
     ]
    },
    {
     "name": "stderr",
     "output_type": "stream",
     "text": [
      "/usr/local/lib/python3.7/site-packages/sklearn/linear_model/stochastic_gradient.py:1185: ConvergenceWarning: Maximum number of iteration reached before convergence. Consider increasing max_iter to improve the fit.\n",
      "  ConvergenceWarning)\n",
      "/usr/local/lib/python3.7/site-packages/sklearn/model_selection/_search.py:814: DeprecationWarning: The default of the `iid` parameter will change from True to False in version 0.22 and will be removed in 0.24. This will change numeric results when test-set sizes are unequal.\n",
      "  DeprecationWarning)\n"
     ]
    }
   ],
   "source": [
    "sgd_best_estimator, sgd_best_params = search_best_hyperparams(SGDRegressor(), \n",
    "                                                      params={'penalty': ['l2', 'l1', 'elasticnet'],\n",
    "                                                              'alpha': [0.00001, 0.0001, 0.001, 0.01, 0.1],\n",
    "                                                              'l1_ratio': np.arange(0, 1.1, 0.1),\n",
    "                                                              'tol': [0.01, 0.001, 0.0001],\n",
    "                                                              'learning_rate': ['constant',\n",
    "                                                                                'optimal',\n",
    "                                                                                'invscaling',\n",
    "                                                                                'adaptive'],\n",
    "                                                              'eta0': [0.0001, 0.001, 0.01, 0.1],\n",
    "                                                              'power_t': [0.1, 0.25, 0.5, 0.7],\n",
    "                                                              'early_stopping': [True]})\n",
    "\n",
    "print('best model:', sgd_best_estimator)\n",
    "print('best params for SGD:', sgd_best_params)\n",
    "print('Results of evaluating the best SGD')\n",
    "errors_of_prediction(sgd_best_estimator, X_test)"
   ]
  },
  {
   "cell_type": "code",
   "execution_count": 41,
   "metadata": {},
   "outputs": [
    {
     "data": {
      "text/html": [
       "<div>\n",
       "<style scoped>\n",
       "    .dataframe tbody tr th:only-of-type {\n",
       "        vertical-align: middle;\n",
       "    }\n",
       "\n",
       "    .dataframe tbody tr th {\n",
       "        vertical-align: top;\n",
       "    }\n",
       "\n",
       "    .dataframe thead th {\n",
       "        text-align: right;\n",
       "    }\n",
       "</style>\n",
       "<table border=\"1\" class=\"dataframe\">\n",
       "  <thead>\n",
       "    <tr style=\"text-align: right;\">\n",
       "      <th></th>\n",
       "      <th>lin regr</th>\n",
       "      <th>rf regr</th>\n",
       "      <th>sgd regr</th>\n",
       "    </tr>\n",
       "  </thead>\n",
       "  <tbody>\n",
       "    <tr>\n",
       "      <th>0</th>\n",
       "      <td>smoker_yes</td>\n",
       "      <td>smoker_yes</td>\n",
       "      <td>smoker_yes</td>\n",
       "    </tr>\n",
       "    <tr>\n",
       "      <th>1</th>\n",
       "      <td>less 20</td>\n",
       "      <td>less 20</td>\n",
       "      <td>region_northeast</td>\n",
       "    </tr>\n",
       "    <tr>\n",
       "      <th>2</th>\n",
       "      <td>20-25</td>\n",
       "      <td>20-25</td>\n",
       "      <td>region_northwest</td>\n",
       "    </tr>\n",
       "    <tr>\n",
       "      <th>3</th>\n",
       "      <td>60-65</td>\n",
       "      <td>bmi</td>\n",
       "      <td>region_southwest</td>\n",
       "    </tr>\n",
       "    <tr>\n",
       "      <th>4</th>\n",
       "      <td>25-30</td>\n",
       "      <td>25-30</td>\n",
       "      <td>children_4</td>\n",
       "    </tr>\n",
       "    <tr>\n",
       "      <th>5</th>\n",
       "      <td>55-60</td>\n",
       "      <td>30-35</td>\n",
       "      <td>region_southeast</td>\n",
       "    </tr>\n",
       "    <tr>\n",
       "      <th>6</th>\n",
       "      <td>50-55</td>\n",
       "      <td>60-65</td>\n",
       "      <td>children_5</td>\n",
       "    </tr>\n",
       "    <tr>\n",
       "      <th>7</th>\n",
       "      <td>30-35</td>\n",
       "      <td>children_0</td>\n",
       "      <td>children_2</td>\n",
       "    </tr>\n",
       "    <tr>\n",
       "      <th>8</th>\n",
       "      <td>children_4</td>\n",
       "      <td>55-60</td>\n",
       "      <td>60-65</td>\n",
       "    </tr>\n",
       "    <tr>\n",
       "      <th>9</th>\n",
       "      <td>children_0</td>\n",
       "      <td>50-55</td>\n",
       "      <td>55-60</td>\n",
       "    </tr>\n",
       "    <tr>\n",
       "      <th>10</th>\n",
       "      <td>35-40</td>\n",
       "      <td>children_2</td>\n",
       "      <td>children_3</td>\n",
       "    </tr>\n",
       "    <tr>\n",
       "      <th>11</th>\n",
       "      <td>45-50</td>\n",
       "      <td>region_northeast</td>\n",
       "      <td>children_1</td>\n",
       "    </tr>\n",
       "    <tr>\n",
       "      <th>12</th>\n",
       "      <td>region_northeast</td>\n",
       "      <td>children_4</td>\n",
       "      <td>50-55</td>\n",
       "    </tr>\n",
       "    <tr>\n",
       "      <th>13</th>\n",
       "      <td>children_1</td>\n",
       "      <td>children_3</td>\n",
       "      <td>children_0</td>\n",
       "    </tr>\n",
       "    <tr>\n",
       "      <th>14</th>\n",
       "      <td>children_5</td>\n",
       "      <td>35-40</td>\n",
       "      <td>45-50</td>\n",
       "    </tr>\n",
       "    <tr>\n",
       "      <th>15</th>\n",
       "      <td>region_southeast</td>\n",
       "      <td>sex_male</td>\n",
       "      <td>bmi</td>\n",
       "    </tr>\n",
       "    <tr>\n",
       "      <th>16</th>\n",
       "      <td>bmi</td>\n",
       "      <td>45-50</td>\n",
       "      <td>40-45</td>\n",
       "    </tr>\n",
       "    <tr>\n",
       "      <th>17</th>\n",
       "      <td>children_3</td>\n",
       "      <td>children_1</td>\n",
       "      <td>sex_male</td>\n",
       "    </tr>\n",
       "    <tr>\n",
       "      <th>18</th>\n",
       "      <td>sex_male</td>\n",
       "      <td>region_northwest</td>\n",
       "      <td>35-40</td>\n",
       "    </tr>\n",
       "    <tr>\n",
       "      <th>19</th>\n",
       "      <td>region_southwest</td>\n",
       "      <td>region_southeast</td>\n",
       "      <td>30-35</td>\n",
       "    </tr>\n",
       "    <tr>\n",
       "      <th>20</th>\n",
       "      <td>region_northwest</td>\n",
       "      <td>region_southwest</td>\n",
       "      <td>25-30</td>\n",
       "    </tr>\n",
       "    <tr>\n",
       "      <th>21</th>\n",
       "      <td>children_2</td>\n",
       "      <td>40-45</td>\n",
       "      <td>20-25</td>\n",
       "    </tr>\n",
       "    <tr>\n",
       "      <th>22</th>\n",
       "      <td>40-45</td>\n",
       "      <td>children_5</td>\n",
       "      <td>less 20</td>\n",
       "    </tr>\n",
       "  </tbody>\n",
       "</table>\n",
       "</div>"
      ],
      "text/plain": [
       "            lin regr           rf regr          sgd regr\n",
       "0         smoker_yes        smoker_yes        smoker_yes\n",
       "1            less 20           less 20  region_northeast\n",
       "2              20-25             20-25  region_northwest\n",
       "3              60-65               bmi  region_southwest\n",
       "4              25-30             25-30        children_4\n",
       "5              55-60             30-35  region_southeast\n",
       "6              50-55             60-65        children_5\n",
       "7              30-35        children_0        children_2\n",
       "8         children_4             55-60             60-65\n",
       "9         children_0             50-55             55-60\n",
       "10             35-40        children_2        children_3\n",
       "11             45-50  region_northeast        children_1\n",
       "12  region_northeast        children_4             50-55\n",
       "13        children_1        children_3        children_0\n",
       "14        children_5             35-40             45-50\n",
       "15  region_southeast          sex_male               bmi\n",
       "16               bmi             45-50             40-45\n",
       "17        children_3        children_1          sex_male\n",
       "18          sex_male  region_northwest             35-40\n",
       "19  region_southwest  region_southeast             30-35\n",
       "20  region_northwest  region_southwest             25-30\n",
       "21        children_2             40-45             20-25\n",
       "22             40-45        children_5           less 20"
      ]
     },
     "execution_count": 41,
     "metadata": {},
     "output_type": "execute_result"
    }
   ],
   "source": [
    "sgd_regr_feature_importance = X.columns[np.argsort(sgd_best_estimator.coef_)[::-1]]\n",
    "pd.DataFrame(np.column_stack((lin_regr_feature_importance,\n",
    "                              rf_regr_feature_importance,\n",
    "                              sgd_regr_feature_importance)), columns=[\"lin regr\",\n",
    "                                                                      \"rf regr\",\n",
    "                                                                      \"sgd regr\"])"
   ]
  },
  {
   "cell_type": "markdown",
   "metadata": {},
   "source": [
    "Surprisingly the method of stochastic gradient descent gives high importance to the categories showing regions and number of children. It would've been interesting to mix different models so they all give some impact to the result based on different features."
   ]
  },
  {
   "cell_type": "markdown",
   "metadata": {},
   "source": [
    "### Let's also try out XGBoost and Catboost on this dataset\n",
    "\n",
    "* https://github.com/dmlc/xgboost\n",
    "* https://github.com/catboost/catboost"
   ]
  },
  {
   "cell_type": "code",
   "execution_count": 42,
   "metadata": {},
   "outputs": [],
   "source": [
    "import xgboost as xgb\n",
    "from xgboost import XGBRegressor, DMatrix\n",
    "from catboost import CatBoostRegressor, Pool"
   ]
  },
  {
   "cell_type": "markdown",
   "metadata": {},
   "source": [
    "#### XGBoost"
   ]
  },
  {
   "cell_type": "code",
   "execution_count": 43,
   "metadata": {
    "scrolled": true
   },
   "outputs": [],
   "source": [
    "xgb_best_estimator, xgb_best_params = search_best_hyperparams(XGBRegressor(objective ='reg:squarederror', \n",
    "                                                                   booster='gbtree',\n",
    "                                                                   eval_metric=\"rmse\"), \n",
    "                                                      params={'n_estimators': range(10, 300, 10),\n",
    "                                                              'max_depth': range(10, 100, 10)},\n",
    "                                                      X_train=X_train)"
   ]
  },
  {
   "cell_type": "code",
   "execution_count": 44,
   "metadata": {},
   "outputs": [
    {
     "name": "stdout",
     "output_type": "stream",
     "text": [
      "best model: XGBRegressor(base_score=0.5, booster='gbtree', colsample_bylevel=1,\n",
      "             colsample_bynode=1, colsample_bytree=1, eval_metric='rmse',\n",
      "             gamma=0, gpu_id=-1, importance_type='gain',\n",
      "             interaction_constraints='', learning_rate=0.300000012,\n",
      "             max_delta_step=0, max_depth=60, min_child_weight=1, missing=nan,\n",
      "             monotone_constraints='()', n_estimators=20, n_jobs=0,\n",
      "             num_parallel_tree=1, objective='reg:squarederror', random_state=0,\n",
      "             reg_alpha=0, reg_lambda=1, scale_pos_weight=1, subsample=1,\n",
      "             tree_method='exact', validate_parameters=1, verbosity=None)\n",
      "best params for XGBoost: {'n_estimators': 20, 'max_depth': 60}\n",
      "Results of evaluating the best XGBoost\n",
      "MSE: 39911500.241071925\n",
      "RMSE: 6317.5549258452775\n",
      "MAE: 3880.9206491792984\n",
      "mean absolute relative_error: 43.33731742084685 %\n"
     ]
    }
   ],
   "source": [
    "print('best model:', xgb_best_estimator)\n",
    "print('best params for XGBoost:', xgb_best_params)\n",
    "print('Results of evaluating the best XGBoost')\n",
    "errors_of_prediction(xgb_best_estimator, X_test)"
   ]
  },
  {
   "cell_type": "code",
   "execution_count": 45,
   "metadata": {},
   "outputs": [
    {
     "data": {
      "image/png": "[encoded data removed]",
      "text/plain": [
       "<Figure size 864x360 with 1 Axes>"
      ]
     },
     "metadata": {
      "needs_background": "light"
     },
     "output_type": "display_data"
    }
   ],
   "source": [
    "plt.figure(figsize=(12, 5))\n",
    "coef = xgb_best_estimator.feature_importances_\n",
    "x = range(len(coef))\n",
    "\n",
    "plt.bar(x, coef)\n",
    "plt.xticks(x, X.columns, rotation=40)\n",
    "plt.title('Feature importance in XGBoost')\n",
    "plt.show()"
   ]
  },
  {
   "cell_type": "code",
   "execution_count": 46,
   "metadata": {},
   "outputs": [
    {
     "data": {
      "text/html": [
       "<div>\n",
       "<style scoped>\n",
       "    .dataframe tbody tr th:only-of-type {\n",
       "        vertical-align: middle;\n",
       "    }\n",
       "\n",
       "    .dataframe tbody tr th {\n",
       "        vertical-align: top;\n",
       "    }\n",
       "\n",
       "    .dataframe thead th {\n",
       "        text-align: right;\n",
       "    }\n",
       "</style>\n",
       "<table border=\"1\" class=\"dataframe\">\n",
       "  <thead>\n",
       "    <tr style=\"text-align: right;\">\n",
       "      <th></th>\n",
       "      <th>lin regr</th>\n",
       "      <th>rf regr</th>\n",
       "      <th>sgd regr</th>\n",
       "      <th>xgboost</th>\n",
       "    </tr>\n",
       "  </thead>\n",
       "  <tbody>\n",
       "    <tr>\n",
       "      <th>0</th>\n",
       "      <td>smoker_yes</td>\n",
       "      <td>smoker_yes</td>\n",
       "      <td>smoker_yes</td>\n",
       "      <td>smoker_yes</td>\n",
       "    </tr>\n",
       "    <tr>\n",
       "      <th>1</th>\n",
       "      <td>less 20</td>\n",
       "      <td>less 20</td>\n",
       "      <td>region_northeast</td>\n",
       "      <td>less 20</td>\n",
       "    </tr>\n",
       "    <tr>\n",
       "      <th>2</th>\n",
       "      <td>20-25</td>\n",
       "      <td>20-25</td>\n",
       "      <td>region_northwest</td>\n",
       "      <td>children_0</td>\n",
       "    </tr>\n",
       "    <tr>\n",
       "      <th>3</th>\n",
       "      <td>60-65</td>\n",
       "      <td>bmi</td>\n",
       "      <td>region_southwest</td>\n",
       "      <td>55-60</td>\n",
       "    </tr>\n",
       "    <tr>\n",
       "      <th>4</th>\n",
       "      <td>25-30</td>\n",
       "      <td>25-30</td>\n",
       "      <td>children_4</td>\n",
       "      <td>25-30</td>\n",
       "    </tr>\n",
       "    <tr>\n",
       "      <th>5</th>\n",
       "      <td>55-60</td>\n",
       "      <td>30-35</td>\n",
       "      <td>region_southeast</td>\n",
       "      <td>60-65</td>\n",
       "    </tr>\n",
       "    <tr>\n",
       "      <th>6</th>\n",
       "      <td>50-55</td>\n",
       "      <td>60-65</td>\n",
       "      <td>children_5</td>\n",
       "      <td>20-25</td>\n",
       "    </tr>\n",
       "    <tr>\n",
       "      <th>7</th>\n",
       "      <td>30-35</td>\n",
       "      <td>children_0</td>\n",
       "      <td>children_2</td>\n",
       "      <td>50-55</td>\n",
       "    </tr>\n",
       "    <tr>\n",
       "      <th>8</th>\n",
       "      <td>children_4</td>\n",
       "      <td>55-60</td>\n",
       "      <td>60-65</td>\n",
       "      <td>children_4</td>\n",
       "    </tr>\n",
       "    <tr>\n",
       "      <th>9</th>\n",
       "      <td>children_0</td>\n",
       "      <td>50-55</td>\n",
       "      <td>55-60</td>\n",
       "      <td>30-35</td>\n",
       "    </tr>\n",
       "    <tr>\n",
       "      <th>10</th>\n",
       "      <td>35-40</td>\n",
       "      <td>children_2</td>\n",
       "      <td>children_3</td>\n",
       "      <td>region_northeast</td>\n",
       "    </tr>\n",
       "    <tr>\n",
       "      <th>11</th>\n",
       "      <td>45-50</td>\n",
       "      <td>region_northeast</td>\n",
       "      <td>children_1</td>\n",
       "      <td>region_southeast</td>\n",
       "    </tr>\n",
       "    <tr>\n",
       "      <th>12</th>\n",
       "      <td>region_northeast</td>\n",
       "      <td>children_4</td>\n",
       "      <td>50-55</td>\n",
       "      <td>35-40</td>\n",
       "    </tr>\n",
       "    <tr>\n",
       "      <th>13</th>\n",
       "      <td>children_1</td>\n",
       "      <td>children_3</td>\n",
       "      <td>children_0</td>\n",
       "      <td>45-50</td>\n",
       "    </tr>\n",
       "    <tr>\n",
       "      <th>14</th>\n",
       "      <td>children_5</td>\n",
       "      <td>35-40</td>\n",
       "      <td>45-50</td>\n",
       "      <td>sex_male</td>\n",
       "    </tr>\n",
       "    <tr>\n",
       "      <th>15</th>\n",
       "      <td>region_southeast</td>\n",
       "      <td>sex_male</td>\n",
       "      <td>bmi</td>\n",
       "      <td>children_2</td>\n",
       "    </tr>\n",
       "    <tr>\n",
       "      <th>16</th>\n",
       "      <td>bmi</td>\n",
       "      <td>45-50</td>\n",
       "      <td>40-45</td>\n",
       "      <td>region_southwest</td>\n",
       "    </tr>\n",
       "    <tr>\n",
       "      <th>17</th>\n",
       "      <td>children_3</td>\n",
       "      <td>children_1</td>\n",
       "      <td>sex_male</td>\n",
       "      <td>region_northwest</td>\n",
       "    </tr>\n",
       "    <tr>\n",
       "      <th>18</th>\n",
       "      <td>sex_male</td>\n",
       "      <td>region_northwest</td>\n",
       "      <td>35-40</td>\n",
       "      <td>children_1</td>\n",
       "    </tr>\n",
       "    <tr>\n",
       "      <th>19</th>\n",
       "      <td>region_southwest</td>\n",
       "      <td>region_southeast</td>\n",
       "      <td>30-35</td>\n",
       "      <td>bmi</td>\n",
       "    </tr>\n",
       "    <tr>\n",
       "      <th>20</th>\n",
       "      <td>region_northwest</td>\n",
       "      <td>region_southwest</td>\n",
       "      <td>25-30</td>\n",
       "      <td>children_5</td>\n",
       "    </tr>\n",
       "    <tr>\n",
       "      <th>21</th>\n",
       "      <td>children_2</td>\n",
       "      <td>40-45</td>\n",
       "      <td>20-25</td>\n",
       "      <td>children_3</td>\n",
       "    </tr>\n",
       "    <tr>\n",
       "      <th>22</th>\n",
       "      <td>40-45</td>\n",
       "      <td>children_5</td>\n",
       "      <td>less 20</td>\n",
       "      <td>40-45</td>\n",
       "    </tr>\n",
       "  </tbody>\n",
       "</table>\n",
       "</div>"
      ],
      "text/plain": [
       "            lin regr           rf regr          sgd regr           xgboost\n",
       "0         smoker_yes        smoker_yes        smoker_yes        smoker_yes\n",
       "1            less 20           less 20  region_northeast           less 20\n",
       "2              20-25             20-25  region_northwest        children_0\n",
       "3              60-65               bmi  region_southwest             55-60\n",
       "4              25-30             25-30        children_4             25-30\n",
       "5              55-60             30-35  region_southeast             60-65\n",
       "6              50-55             60-65        children_5             20-25\n",
       "7              30-35        children_0        children_2             50-55\n",
       "8         children_4             55-60             60-65        children_4\n",
       "9         children_0             50-55             55-60             30-35\n",
       "10             35-40        children_2        children_3  region_northeast\n",
       "11             45-50  region_northeast        children_1  region_southeast\n",
       "12  region_northeast        children_4             50-55             35-40\n",
       "13        children_1        children_3        children_0             45-50\n",
       "14        children_5             35-40             45-50          sex_male\n",
       "15  region_southeast          sex_male               bmi        children_2\n",
       "16               bmi             45-50             40-45  region_southwest\n",
       "17        children_3        children_1          sex_male  region_northwest\n",
       "18          sex_male  region_northwest             35-40        children_1\n",
       "19  region_southwest  region_southeast             30-35               bmi\n",
       "20  region_northwest  region_southwest             25-30        children_5\n",
       "21        children_2             40-45             20-25        children_3\n",
       "22             40-45        children_5           less 20             40-45"
      ]
     },
     "execution_count": 46,
     "metadata": {},
     "output_type": "execute_result"
    }
   ],
   "source": [
    "xgb_regr_feature_importance = X.columns[np.argsort(xgb_best_estimator.feature_importances_)[::-1]]\n",
    "pd.DataFrame(np.column_stack((lin_regr_feature_importance,\n",
    "                              rf_regr_feature_importance,\n",
    "                              sgd_regr_feature_importance,\n",
    "                              xgb_regr_feature_importance)), columns=[\"lin regr\",\n",
    "                                                                      \"rf regr\",\n",
    "                                                                      \"sgd regr\",\n",
    "                                                                      \"xgboost\"])"
   ]
  },
  {
   "cell_type": "markdown",
   "metadata": {},
   "source": [
    "#### CatBoost"
   ]
  },
  {
   "cell_type": "code",
   "execution_count": 47,
   "metadata": {},
   "outputs": [],
   "source": [
    "cat_best_estimator, cat_best_params = search_best_hyperparams(CatBoostRegressor(loss_function='RMSE', \n",
    "                                                                        silent=True, iterations=100), \n",
    "                                                      params={'depth': range(5, 12),\n",
    "                                                              'l2_leaf_reg': [0.1, 0.3, 0.7],\n",
    "                                                              'bagging_temperature': [0., 0.5, 1, 2, 10]},\n",
    "                                                      X_train=X_train)"
   ]
  },
  {
   "cell_type": "code",
   "execution_count": 48,
   "metadata": {},
   "outputs": [
    {
     "name": "stdout",
     "output_type": "stream",
     "text": [
      "best model: <catboost.core.CatBoostRegressor object at 0x13800c710>\n",
      "best params for CatBoost: {'l2_leaf_reg': 0.1, 'depth': 8, 'bagging_temperature': 0.0}\n",
      "Results of evaluating the best CatBoost\n",
      "MSE: 32644250.932311386\n",
      "RMSE: 5713.514761712915\n",
      "MAE: 3413.1876442254734\n",
      "mean absolute relative_error: 34.51949566203397 %\n"
     ]
    }
   ],
   "source": [
    "print('best model:', cat_best_estimator)\n",
    "print('best params for CatBoost:', cat_best_params)\n",
    "\n",
    "# cat = CatBoostRegressor(loss_function='RMSE', silent=True, iterations=100)\n",
    "print('Results of evaluating the best CatBoost')\n",
    "errors_of_prediction(cat_best_estimator, X_test)"
   ]
  },
  {
   "cell_type": "code",
   "execution_count": 49,
   "metadata": {},
   "outputs": [
    {
     "data": {
      "image/png": "[encoded data removed]",
      "text/plain": [
       "<Figure size 864x360 with 1 Axes>"
      ]
     },
     "metadata": {
      "needs_background": "light"
     },
     "output_type": "display_data"
    }
   ],
   "source": [
    "plt.figure(figsize=(12, 5))\n",
    "coef = cat_best_estimator.feature_importances_\n",
    "x = range(len(coef))\n",
    "\n",
    "plt.bar(x, coef)\n",
    "plt.xticks(x, X.columns, rotation=40)\n",
    "plt.title('Feature importance in CatBoost')\n",
    "plt.show()"
   ]
  },
  {
   "cell_type": "code",
   "execution_count": 50,
   "metadata": {
    "scrolled": false
   },
   "outputs": [
    {
     "data": {
      "text/html": [
       "<div>\n",
       "<style scoped>\n",
       "    .dataframe tbody tr th:only-of-type {\n",
       "        vertical-align: middle;\n",
       "    }\n",
       "\n",
       "    .dataframe tbody tr th {\n",
       "        vertical-align: top;\n",
       "    }\n",
       "\n",
       "    .dataframe thead th {\n",
       "        text-align: right;\n",
       "    }\n",
       "</style>\n",
       "<table border=\"1\" class=\"dataframe\">\n",
       "  <thead>\n",
       "    <tr style=\"text-align: right;\">\n",
       "      <th></th>\n",
       "      <th>lin regr</th>\n",
       "      <th>rf regr</th>\n",
       "      <th>sgd regr</th>\n",
       "      <th>xgboost</th>\n",
       "      <th>catboost</th>\n",
       "    </tr>\n",
       "  </thead>\n",
       "  <tbody>\n",
       "    <tr>\n",
       "      <th>0</th>\n",
       "      <td>smoker_yes</td>\n",
       "      <td>smoker_yes</td>\n",
       "      <td>smoker_yes</td>\n",
       "      <td>smoker_yes</td>\n",
       "      <td>smoker_yes</td>\n",
       "    </tr>\n",
       "    <tr>\n",
       "      <th>1</th>\n",
       "      <td>less 20</td>\n",
       "      <td>less 20</td>\n",
       "      <td>region_northeast</td>\n",
       "      <td>less 20</td>\n",
       "      <td>less 20</td>\n",
       "    </tr>\n",
       "    <tr>\n",
       "      <th>2</th>\n",
       "      <td>20-25</td>\n",
       "      <td>20-25</td>\n",
       "      <td>region_northwest</td>\n",
       "      <td>children_0</td>\n",
       "      <td>20-25</td>\n",
       "    </tr>\n",
       "    <tr>\n",
       "      <th>3</th>\n",
       "      <td>60-65</td>\n",
       "      <td>bmi</td>\n",
       "      <td>region_southwest</td>\n",
       "      <td>55-60</td>\n",
       "      <td>bmi</td>\n",
       "    </tr>\n",
       "    <tr>\n",
       "      <th>4</th>\n",
       "      <td>25-30</td>\n",
       "      <td>25-30</td>\n",
       "      <td>children_4</td>\n",
       "      <td>25-30</td>\n",
       "      <td>25-30</td>\n",
       "    </tr>\n",
       "    <tr>\n",
       "      <th>5</th>\n",
       "      <td>55-60</td>\n",
       "      <td>30-35</td>\n",
       "      <td>region_southeast</td>\n",
       "      <td>60-65</td>\n",
       "      <td>60-65</td>\n",
       "    </tr>\n",
       "    <tr>\n",
       "      <th>6</th>\n",
       "      <td>50-55</td>\n",
       "      <td>60-65</td>\n",
       "      <td>children_5</td>\n",
       "      <td>20-25</td>\n",
       "      <td>children_0</td>\n",
       "    </tr>\n",
       "    <tr>\n",
       "      <th>7</th>\n",
       "      <td>30-35</td>\n",
       "      <td>children_0</td>\n",
       "      <td>children_2</td>\n",
       "      <td>50-55</td>\n",
       "      <td>55-60</td>\n",
       "    </tr>\n",
       "    <tr>\n",
       "      <th>8</th>\n",
       "      <td>children_4</td>\n",
       "      <td>55-60</td>\n",
       "      <td>60-65</td>\n",
       "      <td>children_4</td>\n",
       "      <td>50-55</td>\n",
       "    </tr>\n",
       "    <tr>\n",
       "      <th>9</th>\n",
       "      <td>children_0</td>\n",
       "      <td>50-55</td>\n",
       "      <td>55-60</td>\n",
       "      <td>30-35</td>\n",
       "      <td>region_northeast</td>\n",
       "    </tr>\n",
       "    <tr>\n",
       "      <th>10</th>\n",
       "      <td>35-40</td>\n",
       "      <td>children_2</td>\n",
       "      <td>children_3</td>\n",
       "      <td>region_northeast</td>\n",
       "      <td>sex_male</td>\n",
       "    </tr>\n",
       "    <tr>\n",
       "      <th>11</th>\n",
       "      <td>45-50</td>\n",
       "      <td>region_northeast</td>\n",
       "      <td>children_1</td>\n",
       "      <td>region_southeast</td>\n",
       "      <td>30-35</td>\n",
       "    </tr>\n",
       "    <tr>\n",
       "      <th>12</th>\n",
       "      <td>region_northeast</td>\n",
       "      <td>children_4</td>\n",
       "      <td>50-55</td>\n",
       "      <td>35-40</td>\n",
       "      <td>region_southeast</td>\n",
       "    </tr>\n",
       "    <tr>\n",
       "      <th>13</th>\n",
       "      <td>children_1</td>\n",
       "      <td>children_3</td>\n",
       "      <td>children_0</td>\n",
       "      <td>45-50</td>\n",
       "      <td>45-50</td>\n",
       "    </tr>\n",
       "    <tr>\n",
       "      <th>14</th>\n",
       "      <td>children_5</td>\n",
       "      <td>35-40</td>\n",
       "      <td>45-50</td>\n",
       "      <td>sex_male</td>\n",
       "      <td>children_2</td>\n",
       "    </tr>\n",
       "    <tr>\n",
       "      <th>15</th>\n",
       "      <td>region_southeast</td>\n",
       "      <td>sex_male</td>\n",
       "      <td>bmi</td>\n",
       "      <td>children_2</td>\n",
       "      <td>children_1</td>\n",
       "    </tr>\n",
       "    <tr>\n",
       "      <th>16</th>\n",
       "      <td>bmi</td>\n",
       "      <td>45-50</td>\n",
       "      <td>40-45</td>\n",
       "      <td>region_southwest</td>\n",
       "      <td>children_4</td>\n",
       "    </tr>\n",
       "    <tr>\n",
       "      <th>17</th>\n",
       "      <td>children_3</td>\n",
       "      <td>children_1</td>\n",
       "      <td>sex_male</td>\n",
       "      <td>region_northwest</td>\n",
       "      <td>region_northwest</td>\n",
       "    </tr>\n",
       "    <tr>\n",
       "      <th>18</th>\n",
       "      <td>sex_male</td>\n",
       "      <td>region_northwest</td>\n",
       "      <td>35-40</td>\n",
       "      <td>children_1</td>\n",
       "      <td>region_southwest</td>\n",
       "    </tr>\n",
       "    <tr>\n",
       "      <th>19</th>\n",
       "      <td>region_southwest</td>\n",
       "      <td>region_southeast</td>\n",
       "      <td>30-35</td>\n",
       "      <td>bmi</td>\n",
       "      <td>children_3</td>\n",
       "    </tr>\n",
       "    <tr>\n",
       "      <th>20</th>\n",
       "      <td>region_northwest</td>\n",
       "      <td>region_southwest</td>\n",
       "      <td>25-30</td>\n",
       "      <td>children_5</td>\n",
       "      <td>35-40</td>\n",
       "    </tr>\n",
       "    <tr>\n",
       "      <th>21</th>\n",
       "      <td>children_2</td>\n",
       "      <td>40-45</td>\n",
       "      <td>20-25</td>\n",
       "      <td>children_3</td>\n",
       "      <td>40-45</td>\n",
       "    </tr>\n",
       "    <tr>\n",
       "      <th>22</th>\n",
       "      <td>40-45</td>\n",
       "      <td>children_5</td>\n",
       "      <td>less 20</td>\n",
       "      <td>40-45</td>\n",
       "      <td>children_5</td>\n",
       "    </tr>\n",
       "  </tbody>\n",
       "</table>\n",
       "</div>"
      ],
      "text/plain": [
       "            lin regr           rf regr          sgd regr           xgboost  \\\n",
       "0         smoker_yes        smoker_yes        smoker_yes        smoker_yes   \n",
       "1            less 20           less 20  region_northeast           less 20   \n",
       "2              20-25             20-25  region_northwest        children_0   \n",
       "3              60-65               bmi  region_southwest             55-60   \n",
       "4              25-30             25-30        children_4             25-30   \n",
       "5              55-60             30-35  region_southeast             60-65   \n",
       "6              50-55             60-65        children_5             20-25   \n",
       "7              30-35        children_0        children_2             50-55   \n",
       "8         children_4             55-60             60-65        children_4   \n",
       "9         children_0             50-55             55-60             30-35   \n",
       "10             35-40        children_2        children_3  region_northeast   \n",
       "11             45-50  region_northeast        children_1  region_southeast   \n",
       "12  region_northeast        children_4             50-55             35-40   \n",
       "13        children_1        children_3        children_0             45-50   \n",
       "14        children_5             35-40             45-50          sex_male   \n",
       "15  region_southeast          sex_male               bmi        children_2   \n",
       "16               bmi             45-50             40-45  region_southwest   \n",
       "17        children_3        children_1          sex_male  region_northwest   \n",
       "18          sex_male  region_northwest             35-40        children_1   \n",
       "19  region_southwest  region_southeast             30-35               bmi   \n",
       "20  region_northwest  region_southwest             25-30        children_5   \n",
       "21        children_2             40-45             20-25        children_3   \n",
       "22             40-45        children_5           less 20             40-45   \n",
       "\n",
       "            catboost  \n",
       "0         smoker_yes  \n",
       "1            less 20  \n",
       "2              20-25  \n",
       "3                bmi  \n",
       "4              25-30  \n",
       "5              60-65  \n",
       "6         children_0  \n",
       "7              55-60  \n",
       "8              50-55  \n",
       "9   region_northeast  \n",
       "10          sex_male  \n",
       "11             30-35  \n",
       "12  region_southeast  \n",
       "13             45-50  \n",
       "14        children_2  \n",
       "15        children_1  \n",
       "16        children_4  \n",
       "17  region_northwest  \n",
       "18  region_southwest  \n",
       "19        children_3  \n",
       "20             35-40  \n",
       "21             40-45  \n",
       "22        children_5  "
      ]
     },
     "execution_count": 50,
     "metadata": {},
     "output_type": "execute_result"
    }
   ],
   "source": [
    "cat_regr_feature_importance = X.columns[np.argsort(cat_best_estimator.feature_importances_)[::-1]]\n",
    "pd.DataFrame(np.column_stack((lin_regr_feature_importance,\n",
    "                              rf_regr_feature_importance,\n",
    "                              sgd_regr_feature_importance,\n",
    "                              xgb_regr_feature_importance,\n",
    "                              cat_regr_feature_importance)), columns=[\"lin regr\",\n",
    "                                                                      \"rf regr\",\n",
    "                                                                      \"sgd regr\",\n",
    "                                                                      \"xgboost\",\n",
    "                                                                      \"catboost\"])"
   ]
  },
  {
   "cell_type": "markdown",
   "metadata": {},
   "source": [
    "As we see, for linear regressor, random forest, xgboost, catboost the most important features are indicator whether the person smokes and also whether the age is less than 20 or not. Other age categories are also pretty high in the feature importance rate for these regressors. Radically different is stochastic gradient regressor's results, as 4 out of first 5 are categories, showing different regions. But still the binary feature whether a person is a smoker, still has high importance."
   ]
  },
  {
   "cell_type": "markdown",
   "metadata": {},
   "source": [
    "### Let's try simple approach - averaging results of different models"
   ]
  },
  {
   "cell_type": "code",
   "execution_count": 51,
   "metadata": {},
   "outputs": [
    {
     "name": "stdout",
     "output_type": "stream",
     "text": [
      "MSE: 32553221.458870977\n",
      "RMSE: 5705.543046798523\n",
      "MAE: 3330.0687459029737\n",
      "mean absolute relative_error: 32.88693576917537 %\n"
     ]
    }
   ],
   "source": [
    "models = {\n",
    "    'lin': LinearRegression().fit(X_train, y_train), \n",
    "    'sgd': sgd_best_estimator,\n",
    "    'xgb': xgb_best_estimator,\n",
    "    'cat': cat_best_estimator,\n",
    "    'rf': rf_best_estimator,\n",
    "}\n",
    "\n",
    "def get_average_predictions(models):\n",
    "    predictions = np.mean(np.column_stack([model.predict(X_test) for _, model in models.items()]), axis=1)\n",
    "    return predictions\n",
    "\n",
    "predictions = get_average_predictions(models)\n",
    "compute_errors(y_test, predictions)"
   ]
  },
  {
   "cell_type": "markdown",
   "metadata": {},
   "source": [
    "It already helped to improve the results and to reduce the error on a test set!"
   ]
  },
  {
   "cell_type": "markdown",
   "metadata": {},
   "source": [
    "### Let's implement stacking now using RandomForest as meta regressor, and four others for making meta-features."
   ]
  },
  {
   "cell_type": "code",
   "execution_count": 52,
   "metadata": {},
   "outputs": [],
   "source": [
    "from sklearn.model_selection import KFold\n",
    "\n",
    "kf = KFold(n_splits=4, shuffle=True)\n",
    "# list(kf.split(y_train))\n",
    "\n",
    "def predict_meta_features(model, X_train):\n",
    "    length = X_train.shape[0]\n",
    "    \n",
    "    meta_feature = pd.DataFrame(columns=['id', 'feat'])\n",
    "    for train_index, test_index in kf.split(y_train):\n",
    "#         print(X_train.values)\n",
    "        model.fit(X_train.values[train_index], y_train.values[train_index])\n",
    "        meta_feature = pd.concat((meta_feature, pd.DataFrame({'id': test_index, \n",
    "                                                 'feat': model.predict(X_train.values[test_index])})))\n",
    "                                 \n",
    "    meta_feature = meta_feature.sort_values(by='id')\n",
    "        \n",
    "    return meta_feature['feat']"
   ]
  },
  {
   "cell_type": "code",
   "execution_count": 53,
   "metadata": {},
   "outputs": [],
   "source": [
    "models = {\n",
    "    'lin': LinearRegression().fit(X_train, y_train), \n",
    "    'sgd': sgd_best_estimator,\n",
    "    'xgb': xgb_best_estimator,\n",
    "    'cat': cat_best_estimator,\n",
    "}"
   ]
  },
  {
   "cell_type": "code",
   "execution_count": 54,
   "metadata": {},
   "outputs": [
    {
     "data": {
      "text/html": [
       "<div>\n",
       "<style scoped>\n",
       "    .dataframe tbody tr th:only-of-type {\n",
       "        vertical-align: middle;\n",
       "    }\n",
       "\n",
       "    .dataframe tbody tr th {\n",
       "        vertical-align: top;\n",
       "    }\n",
       "\n",
       "    .dataframe thead th {\n",
       "        text-align: right;\n",
       "    }\n",
       "</style>\n",
       "<table border=\"1\" class=\"dataframe\">\n",
       "  <thead>\n",
       "    <tr style=\"text-align: right;\">\n",
       "      <th></th>\n",
       "      <th>0</th>\n",
       "      <th>1</th>\n",
       "      <th>2</th>\n",
       "      <th>3</th>\n",
       "    </tr>\n",
       "  </thead>\n",
       "  <tbody>\n",
       "    <tr>\n",
       "      <th>0</th>\n",
       "      <td>9.164062</td>\n",
       "      <td>9.134097</td>\n",
       "      <td>8.845683</td>\n",
       "      <td>9.034606</td>\n",
       "    </tr>\n",
       "    <tr>\n",
       "      <th>1</th>\n",
       "      <td>8.390242</td>\n",
       "      <td>8.451175</td>\n",
       "      <td>8.614441</td>\n",
       "      <td>8.743906</td>\n",
       "    </tr>\n",
       "    <tr>\n",
       "      <th>2</th>\n",
       "      <td>9.527565</td>\n",
       "      <td>9.474898</td>\n",
       "      <td>9.115048</td>\n",
       "      <td>9.211189</td>\n",
       "    </tr>\n",
       "    <tr>\n",
       "      <th>3</th>\n",
       "      <td>9.365928</td>\n",
       "      <td>9.342701</td>\n",
       "      <td>9.787013</td>\n",
       "      <td>9.321331</td>\n",
       "    </tr>\n",
       "    <tr>\n",
       "      <th>4</th>\n",
       "      <td>8.859265</td>\n",
       "      <td>8.883271</td>\n",
       "      <td>7.966942</td>\n",
       "      <td>8.884449</td>\n",
       "    </tr>\n",
       "  </tbody>\n",
       "</table>\n",
       "</div>"
      ],
      "text/plain": [
       "          0         1         2         3\n",
       "0  9.164062  9.134097  8.845683  9.034606\n",
       "1  8.390242  8.451175  8.614441  8.743906\n",
       "2  9.527565  9.474898  9.115048  9.211189\n",
       "3  9.365928  9.342701  9.787013  9.321331\n",
       "4  8.859265  8.883271  7.966942  8.884449"
      ]
     },
     "execution_count": 54,
     "metadata": {},
     "output_type": "execute_result"
    }
   ],
   "source": [
    "X_train_meta = pd.DataFrame()\n",
    "X_test_meta = pd.DataFrame()\n",
    "\n",
    "out_of_fold_predictions = np.zeros((X_train.shape[0], len(models)))\n",
    "\n",
    "fitted_models = [list() for _ in models]\n",
    "for i, (name, model) in enumerate(models.items()):\n",
    "    for train_index, holdout_index in kf.split(y_train):\n",
    "#         instance = clone(model)\n",
    "        fitted_models[i].append(model)\n",
    "        model.fit(X_train.values[train_index], y_train.values[train_index])\n",
    "        y_pred = model.predict(X_train.values[holdout_index])\n",
    "        out_of_fold_predictions[holdout_index, i] = y_pred\n",
    "# get_average_predictions(models)\n",
    "        \n",
    "meta_test = pd.DataFrame(\n",
    "    np.column_stack([\n",
    "            np.column_stack([model.predict(X_test.values) for model in models]).mean(axis=1)\n",
    "            for models in fitted_models \n",
    "    ]))\n",
    "\n",
    "meta = pd.DataFrame(out_of_fold_predictions)\n",
    "meta.head()"
   ]
  },
  {
   "cell_type": "code",
   "execution_count": 55,
   "metadata": {},
   "outputs": [
    {
     "name": "stdout",
     "output_type": "stream",
     "text": [
      "RandomForestRegressor(bootstrap=True, criterion='mse', max_depth=3,\n",
      "                      max_features='auto', max_leaf_nodes=None,\n",
      "                      min_impurity_decrease=0.0, min_impurity_split=None,\n",
      "                      min_samples_leaf=1, min_samples_split=2,\n",
      "                      min_weight_fraction_leaf=0.0, n_estimators=200,\n",
      "                      n_jobs=None, oob_score=False, random_state=None,\n",
      "                      verbose=0, warm_start=False)\n"
     ]
    }
   ],
   "source": [
    "rf_best_estimator, rf_best_params = search_best_hyperparams(RandomForestRegressor(criterion='mse'), \n",
    "                                                      params={'n_estimators': range(10, 300, 10),\n",
    "                                                              'max_depth': range(3, 12)},\n",
    "                                                           X_train=meta)\n",
    "\n",
    "print(rf_best_estimator)"
   ]
  },
  {
   "cell_type": "code",
   "execution_count": 56,
   "metadata": {},
   "outputs": [
    {
     "name": "stdout",
     "output_type": "stream",
     "text": [
      "MSE: 31262920.99329023\n",
      "RMSE: 5591.325513086341\n",
      "MAE: 3171.3311503951672\n",
      "mean absolute relative_error: 31.534178109953857 %\n"
     ]
    }
   ],
   "source": [
    "errors_of_prediction(rf_best_estimator, meta_test)"
   ]
  },
  {
   "cell_type": "markdown",
   "metadata": {},
   "source": [
    "### Such approach helped to improve the final score.\n",
    "#### Now let's finally check the quality on the validation set, that wasn't used before for comparing models:"
   ]
  },
  {
   "cell_type": "code",
   "execution_count": 57,
   "metadata": {},
   "outputs": [
    {
     "name": "stdout",
     "output_type": "stream",
     "text": [
      "MSE: 21086338.98301336\n",
      "RMSE: 4591.986387503055\n",
      "MAE: 2602.7088554787397\n",
      "mean absolute relative_error: 25.995067634518573 %\n"
     ]
    }
   ],
   "source": [
    "meta_val = pd.DataFrame(\n",
    "    np.column_stack([\n",
    "            np.column_stack([model.predict(X_val.values) for model in models]).mean(axis=1)\n",
    "            for models in fitted_models \n",
    "    ]))\n",
    "\n",
    "errors_of_prediction(rf_best_estimator, meta_val, y_test=y_val)"
   ]
  },
  {
   "cell_type": "code",
   "execution_count": null,
   "metadata": {},
   "outputs": [],
   "source": []
  }
 ],
 "metadata": {
  "kernelspec": {
   "display_name": "Python 3",
   "language": "python",
   "name": "python3"
  },
  "language_info": {
   "codemirror_mode": {
    "name": "ipython",
    "version": 3
   },
   "file_extension": ".py",
   "mimetype": "text/x-python",
   "name": "python",
   "nbconvert_exporter": "python",
   "pygments_lexer": "ipython3",
   "version": "3.7.6"
  }
 },
 "nbformat": 4,
 "nbformat_minor": 4
}
